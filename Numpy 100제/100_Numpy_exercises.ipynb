{
 "cells": [
  {
   "cell_type": "markdown",
   "id": "ad1d1330",
   "metadata": {},
   "source": [
    "# 100 numpy exercises\n",
    "\n",
    "This is a collection of exercises that have been collected in the numpy mailing list, on stack overflow\n",
    "and in the numpy documentation. The goal of this collection is to offer a quick reference for both old\n",
    "and new users but also to provide a set of exercises for those who teach.\n",
    "\n",
    "\n",
    "If you find an error or think you've a better way to solve some of them, feel\n",
    "free to open an issue at <https://github.com/rougier/numpy-100>."
   ]
  },
  {
   "cell_type": "markdown",
   "id": "1d620162",
   "metadata": {},
   "source": [
    "File automatically generated. See the documentation to update questions/answers/hints programmatically."
   ]
  },
  {
   "cell_type": "markdown",
   "id": "8574d627",
   "metadata": {},
   "source": [
    "Run the `initialize.py` module, then for each question you can query the\n",
    "answer or an hint with `hint(n)` or `answer(n)` for `n` question number."
   ]
  },
  {
   "cell_type": "markdown",
   "id": "57cf865f",
   "metadata": {},
   "source": [
    "https://minding-deep-learning.tistory.com/55 -> 1에서 30문제까지 문제 해설\n",
    "\n",
    "https://ddolcat.tistory.com/697 -> 랜덤배열 만드는 방법 설명"
   ]
  },
  {
   "cell_type": "markdown",
   "id": "954c5d8f",
   "metadata": {},
   "source": [
    "#### 1. Import the numpy package under the name `np` (★☆☆)"
   ]
  },
  {
   "cell_type": "code",
   "execution_count": 2,
   "id": "4006c08e",
   "metadata": {},
   "outputs": [],
   "source": [
    "import numpy as np\n",
    "\n",
    "#보통 np라는 단어를 많이 씀"
   ]
  },
  {
   "cell_type": "markdown",
   "id": "88e34f09",
   "metadata": {},
   "source": [
    "#### 2. Print the numpy version and the configuration (★☆☆)"
   ]
  },
  {
   "cell_type": "code",
   "execution_count": 2,
   "id": "b1122a25",
   "metadata": {},
   "outputs": [
    {
     "data": {
      "text/plain": [
       "'1.21.5'"
      ]
     },
     "execution_count": 2,
     "metadata": {},
     "output_type": "execute_result"
    }
   ],
   "source": [
    "import numpy as np\n",
    "np.__version__\n",
    "\n",
    "#다른 모듈 설치하고 버전 확인하고 싶으면 저 함수 쓰셈"
   ]
  },
  {
   "cell_type": "markdown",
   "id": "37c21848",
   "metadata": {},
   "source": [
    "#### 3. Create a null vector of size 10 (★☆☆)"
   ]
  },
  {
   "cell_type": "code",
   "execution_count": 3,
   "id": "e090a462",
   "metadata": {
    "scrolled": true
   },
   "outputs": [
    {
     "data": {
      "text/plain": [
       "array([0., 0., 0., 0., 0., 0., 0., 0., 0., 0.])"
      ]
     },
     "execution_count": 3,
     "metadata": {},
     "output_type": "execute_result"
    }
   ],
   "source": [
    "a = np.zeros(10)\n",
    "a\n",
    "#arange, ones라는 함수도 존재함"
   ]
  },
  {
   "cell_type": "code",
   "execution_count": 6,
   "id": "a44c632b",
   "metadata": {},
   "outputs": [
    {
     "data": {
      "text/plain": [
       "array([1., 1., 1., 1., 1., 1., 1., 1., 1., 1.])"
      ]
     },
     "execution_count": 6,
     "metadata": {},
     "output_type": "execute_result"
    }
   ],
   "source": [
    "a = np.ones(10)\n",
    "a"
   ]
  },
  {
   "cell_type": "code",
   "execution_count": 7,
   "id": "569f4223",
   "metadata": {},
   "outputs": [
    {
     "data": {
      "text/plain": [
       "array([0, 1, 2, 3, 4, 5, 6, 7, 8, 9])"
      ]
     },
     "execution_count": 7,
     "metadata": {},
     "output_type": "execute_result"
    }
   ],
   "source": [
    "a = np.arange(10)\n",
    "a"
   ]
  },
  {
   "cell_type": "markdown",
   "id": "7c0e6add",
   "metadata": {},
   "source": [
    "#### 4. How to find the memory size of any array (★☆☆)"
   ]
  },
  {
   "cell_type": "code",
   "execution_count": 8,
   "id": "8c96715d",
   "metadata": {},
   "outputs": [
    {
     "data": {
      "text/plain": [
       "144"
      ]
     },
     "execution_count": 8,
     "metadata": {},
     "output_type": "execute_result"
    }
   ],
   "source": [
    "import struct\n",
    "from sys import getsizeof\n",
    "getsizeof(a)"
   ]
  },
  {
   "cell_type": "code",
   "execution_count": 12,
   "id": "04282e3d",
   "metadata": {},
   "outputs": [
    {
     "data": {
      "text/plain": [
       "40"
      ]
     },
     "execution_count": 12,
     "metadata": {},
     "output_type": "execute_result"
    }
   ],
   "source": [
    "a.nbytes"
   ]
  },
  {
   "cell_type": "markdown",
   "id": "4cf547db",
   "metadata": {},
   "source": [
    "#### 5. How to get the documentation of the numpy add function from the command line? (★☆☆)"
   ]
  },
  {
   "cell_type": "code",
   "execution_count": null,
   "id": "2a24a1e9",
   "metadata": {},
   "outputs": [],
   "source": [
    "#??? 뭘바라는겨"
   ]
  },
  {
   "cell_type": "markdown",
   "id": "bf6679c3",
   "metadata": {},
   "source": [
    "#### 6. Create a null vector of size 10 but the fifth value which is 1 (★☆☆)"
   ]
  },
  {
   "cell_type": "code",
   "execution_count": 44,
   "id": "f4cd59b6",
   "metadata": {},
   "outputs": [
    {
     "data": {
      "text/plain": [
       "array([0., 0., 0., 0., 0., 1., 0., 0., 0., 0.])"
      ]
     },
     "execution_count": 44,
     "metadata": {},
     "output_type": "execute_result"
    }
   ],
   "source": [
    "import numpy as np\n",
    "a = np.zeros(10)\n",
    "a[5] = 1\n",
    "a"
   ]
  },
  {
   "cell_type": "markdown",
   "id": "022451fb",
   "metadata": {},
   "source": [
    "#### 7. Create a vector with values ranging from 10 to 49 (★☆☆)"
   ]
  },
  {
   "cell_type": "code",
   "execution_count": 14,
   "id": "22c2f0a8",
   "metadata": {},
   "outputs": [
    {
     "data": {
      "text/plain": [
       "array([10, 11, 12, 13, 14, 15, 16, 17, 18, 19, 20, 21, 22, 23, 24, 25, 26,\n",
       "       27, 28, 29, 30, 31, 32, 33, 34, 35, 36, 37, 38, 39, 40, 41, 42, 43,\n",
       "       44, 45, 46, 47, 48, 49])"
      ]
     },
     "execution_count": 14,
     "metadata": {},
     "output_type": "execute_result"
    }
   ],
   "source": [
    "np.arange(10,50)"
   ]
  },
  {
   "cell_type": "markdown",
   "id": "aca8f6ee",
   "metadata": {},
   "source": [
    "#### 8. Reverse a vector (first element becomes last) (★☆☆)"
   ]
  },
  {
   "cell_type": "code",
   "execution_count": 57,
   "id": "15f37616",
   "metadata": {},
   "outputs": [
    {
     "data": {
      "text/plain": [
       "array([9, 8, 7, 6, 5, 4, 3, 2, 1, 0])"
      ]
     },
     "execution_count": 57,
     "metadata": {},
     "output_type": "execute_result"
    }
   ],
   "source": [
    "import numpy as np\n",
    "a = np.arange(10)\n",
    "np.sort(a)[::-1]"
   ]
  },
  {
   "cell_type": "markdown",
   "id": "97bfddd4",
   "metadata": {},
   "source": [
    "#### 9. Create a 3x3 matrix with values ranging from 0 to 8 (★☆☆)"
   ]
  },
  {
   "cell_type": "code",
   "execution_count": 15,
   "id": "8b93d83c",
   "metadata": {},
   "outputs": [
    {
     "data": {
      "text/plain": [
       "array([[0, 1, 2],\n",
       "       [3, 4, 5],\n",
       "       [6, 7, 8]])"
      ]
     },
     "execution_count": 15,
     "metadata": {},
     "output_type": "execute_result"
    }
   ],
   "source": [
    "a = np.arange(9)\n",
    "a.reshape(3,3)"
   ]
  },
  {
   "cell_type": "markdown",
   "id": "a073dad0",
   "metadata": {},
   "source": [
    "#### 10. Find indices of non-zero elements from [1,2,0,0,4,0] (★☆☆)"
   ]
  },
  {
   "cell_type": "code",
   "execution_count": 13,
   "id": "c21fb91c",
   "metadata": {},
   "outputs": [
    {
     "data": {
      "text/plain": [
       "array([1, 2, 4])"
      ]
     },
     "execution_count": 13,
     "metadata": {},
     "output_type": "execute_result"
    }
   ],
   "source": [
    "a = np.array( [1,2,0,0,4,0])\n",
    "a[np.where(a > 0)]\n",
    "\n",
    "#where은 인덱스값을 반환하기 때문에 그 인덱스에 해당하는 값을 찾기위해서 []를 붙여줘야 함\n",
    "# np.nonzero << 알아보기"
   ]
  },
  {
   "cell_type": "markdown",
   "id": "82b9a7a0",
   "metadata": {},
   "source": [
    "#### 11. Create a 3x3 identity matrix (★☆☆)"
   ]
  },
  {
   "cell_type": "code",
   "execution_count": 64,
   "id": "7ce1325a",
   "metadata": {},
   "outputs": [
    {
     "name": "stdout",
     "output_type": "stream",
     "text": [
      "[[1. 0. 0.]\n",
      " [0. 1. 0.]\n",
      " [0. 0. 1.]]\n"
     ]
    }
   ],
   "source": [
    "#identity matrix = 대각행렬, 대각선 애들이 1인거\n",
    "# eye쓰면 됨\n",
    "Z = np.eye(3)\n",
    "print(Z)"
   ]
  },
  {
   "cell_type": "markdown",
   "id": "0e6364d3",
   "metadata": {},
   "source": [
    "#### 12. Create a 3x3x3 array with random values (★☆☆)"
   ]
  },
  {
   "cell_type": "code",
   "execution_count": 33,
   "id": "8139c1c8",
   "metadata": {},
   "outputs": [
    {
     "data": {
      "text/plain": [
       "array([[[0.39750946, 0.87579232, 0.40248111],\n",
       "        [0.33324368, 0.90296063, 0.80686928],\n",
       "        [0.12054335, 0.88715649, 0.16884403]],\n",
       "\n",
       "       [[0.60104245, 0.52283559, 0.60087446],\n",
       "        [0.76368903, 0.41787119, 0.4691109 ],\n",
       "        [0.84173721, 0.24789235, 0.71576843]],\n",
       "\n",
       "       [[0.68174382, 0.37753358, 0.89968884],\n",
       "        [0.91890102, 0.76223491, 0.64734882],\n",
       "        [0.82122212, 0.34854202, 0.21474271]]])"
      ]
     },
     "execution_count": 33,
     "metadata": {},
     "output_type": "execute_result"
    }
   ],
   "source": [
    "#랜덤은 random.rand()를 쓰면됨\n",
    "import numpy as np\n",
    "np.random.rand(3,3,3)"
   ]
  },
  {
   "cell_type": "markdown",
   "id": "49ef36a6",
   "metadata": {},
   "source": [
    "#### 13. Create a 10x10 array with random values and find the minimum and maximum values (★☆☆)"
   ]
  },
  {
   "cell_type": "code",
   "execution_count": 20,
   "id": "5b4c73c7",
   "metadata": {},
   "outputs": [
    {
     "name": "stdout",
     "output_type": "stream",
     "text": [
      "0.9877544180297044 0.003391492350149683\n"
     ]
    }
   ],
   "source": [
    "import numpy as np\n",
    "a = np.random.rand(10,10)\n",
    "print(a.max(),\n",
    "a.min())"
   ]
  },
  {
   "cell_type": "markdown",
   "id": "625eb243",
   "metadata": {},
   "source": [
    "#### 14. Create a random vector of size 30 and find the mean value (★☆☆)"
   ]
  },
  {
   "cell_type": "code",
   "execution_count": 22,
   "id": "ba7b8300",
   "metadata": {},
   "outputs": [
    {
     "data": {
      "text/plain": [
       "0.4299203020267675"
      ]
     },
     "execution_count": 22,
     "metadata": {},
     "output_type": "execute_result"
    }
   ],
   "source": [
    "import numpy as np\n",
    "a = np.random.rand(30)\n",
    "a.mean()"
   ]
  },
  {
   "cell_type": "markdown",
   "id": "19540b2f",
   "metadata": {},
   "source": [
    "#### 15. Create a 2d array with 1 on the border and 0 inside (★☆☆)"
   ]
  },
  {
   "cell_type": "code",
   "execution_count": 28,
   "id": "19e78d2c",
   "metadata": {},
   "outputs": [
    {
     "name": "stdout",
     "output_type": "stream",
     "text": [
      "[[1. 1. 1. 1. 1.]\n",
      " [1. 0. 0. 0. 1.]\n",
      " [1. 0. 0. 0. 1.]\n",
      " [1. 0. 0. 0. 1.]\n",
      " [1. 1. 1. 1. 1.]]\n"
     ]
    }
   ],
   "source": [
    "#1로 꽉찬 배열 만들기 -> 원하는 부분 슬라이스, 0으로 바꾸기\n",
    "\n",
    "import numpy as np\n",
    "a = np.ones(25)\n",
    "b = a.reshape(5,-1)\n",
    "\n",
    "b[1:4,1:4]=0\n",
    "print(b)"
   ]
  },
  {
   "cell_type": "markdown",
   "id": "3f0fe171",
   "metadata": {},
   "source": [
    "#### 16. How to add a border (filled with 0's) around an existing array? (★☆☆)"
   ]
  },
  {
   "cell_type": "code",
   "execution_count": 27,
   "id": "662a99b4",
   "metadata": {},
   "outputs": [
    {
     "name": "stdout",
     "output_type": "stream",
     "text": [
      "[[0. 0. 0. 0. 0.]\n",
      " [0. 1. 1. 1. 0.]\n",
      " [0. 1. 1. 1. 0.]\n",
      " [0. 1. 1. 1. 0.]\n",
      " [0. 0. 0. 0. 0.]]\n"
     ]
    }
   ],
   "source": [
    "#15번과 반대로\n",
    "\n",
    "import numpy as np\n",
    "a = np.zeros((5,5))\n",
    "a[1:4,1:4] =1\n",
    "print(a)"
   ]
  },
  {
   "cell_type": "markdown",
   "id": "0464c4af",
   "metadata": {},
   "source": [
    "#### 17. What is the result of the following expression? (★☆☆)\n",
    "```python\n",
    "0 * np.nan\n",
    "np.nan == np.nan\n",
    "np.inf > np.nan\n",
    "np.nan - np.nan\n",
    "np.nan in set([np.nan])\n",
    "0.3 == 3 * 0.1\n",
    "```"
   ]
  },
  {
   "cell_type": "code",
   "execution_count": 14,
   "id": "fbfc0756",
   "metadata": {},
   "outputs": [
    {
     "data": {
      "text/plain": [
       "{nan}"
      ]
     },
     "execution_count": 14,
     "metadata": {},
     "output_type": "execute_result"
    }
   ],
   "source": [
    "set([np.nan])"
   ]
  },
  {
   "cell_type": "markdown",
   "id": "7a5ab6b2",
   "metadata": {},
   "source": [
    "- nan의 연산은 무조건 nan반환\n",
    "- none을 비교하면 true, nan을 비교하면 false가 나옴\n",
    "- 비교안되서 false, inf = 무한대(음수부호 안붙어서 양의 무한대)\n",
    "- nan의 연산은 무조건 nan 반환\n",
    "- [nan]이랑 nan이랑 다름\n",
    "- 0.1 * 3 -> 0.30000000000000004 반환"
   ]
  },
  {
   "cell_type": "code",
   "execution_count": 22,
   "id": "18926a29",
   "metadata": {},
   "outputs": [],
   "source": [
    "#nan\n",
    "#False\n",
    "#False\n",
    "#nan\n",
    "#True\n",
    "#False -> ? 왜"
   ]
  },
  {
   "cell_type": "markdown",
   "id": "afb90e8b",
   "metadata": {},
   "source": [
    "#### 18. Create a 5x5 matrix with values 1,2,3,4 just below the diagonal (★☆☆)"
   ]
  },
  {
   "cell_type": "code",
   "execution_count": 56,
   "id": "8a988102",
   "metadata": {},
   "outputs": [
    {
     "name": "stdout",
     "output_type": "stream",
     "text": [
      "[[1. 0. 0. 0.]\n",
      " [0. 2. 0. 0.]\n",
      " [0. 0. 3. 0.]\n",
      " [0. 0. 0. 4.]]\n"
     ]
    }
   ],
   "source": [
    "#fill_diagonal() -> 출력이 안되냐\n",
    "#대각행렬, 1234값을 갖는\n",
    "\n",
    "import numpy as np\n",
    "metrix = np.zeros(16).reshape(4,4)\n",
    "ix = [1,2,3,4,]\n",
    "for i in range(4) :\n",
    "    metrix[i,i] = ix[i]\n",
    "    i+=1\n",
    "print(metrix)"
   ]
  },
  {
   "cell_type": "markdown",
   "id": "ca611f9e",
   "metadata": {},
   "source": [
    "#### 19. Create a 8x8 matrix and fill it with a checkerboard pattern (★☆☆)"
   ]
  },
  {
   "cell_type": "code",
   "execution_count": 30,
   "id": "24049fc7",
   "metadata": {
    "scrolled": true
   },
   "outputs": [
    {
     "data": {
      "text/plain": [
       "array([[1., 0., 0.],\n",
       "       [0., 1., 0.],\n",
       "       [0., 0., 1.]])"
      ]
     },
     "execution_count": 30,
     "metadata": {},
     "output_type": "execute_result"
    }
   ],
   "source": [
    "np.identity(n=3)"
   ]
  },
  {
   "cell_type": "code",
   "execution_count": null,
   "id": "8ee6f715",
   "metadata": {},
   "outputs": [],
   "source": [
    "import numpy as np\n",
    "x = np.zeros((8,8))\n",
    "# 1::2면 1행부터 격줄  1::3 이면 1행부터 두줄 뛰어서\n",
    "#0::2 면 맨처음부터 격줄\n",
    "\n",
    "x[1::2,::2] = 1\n",
    "x[::2,1::2] = 1\n",
    "print(x)"
   ]
  },
  {
   "cell_type": "markdown",
   "id": "9b77f7af",
   "metadata": {},
   "source": [
    "#### 20. Consider a (6,7,8) shape array, what is the index (x,y,z) of the 100th element? (★☆☆)"
   ]
  },
  {
   "cell_type": "code",
   "execution_count": 16,
   "id": "0ca4064d",
   "metadata": {},
   "outputs": [],
   "source": [
    "#뭘...뭔데\n",
    "#print(np.unravel_index(99,(6,7,8)))"
   ]
  },
  {
   "cell_type": "code",
   "execution_count": null,
   "id": "1cdccf3e",
   "metadata": {},
   "outputs": [],
   "source": []
  },
  {
   "cell_type": "code",
   "execution_count": null,
   "id": "e0f6097f",
   "metadata": {},
   "outputs": [],
   "source": []
  },
  {
   "cell_type": "markdown",
   "id": "07e399b8",
   "metadata": {},
   "source": [
    "#### 21. Create a checkerboard 8x8 matrix using the tile function (★☆☆)"
   ]
  },
  {
   "cell_type": "code",
   "execution_count": 59,
   "id": "867964a9",
   "metadata": {},
   "outputs": [
    {
     "name": "stdout",
     "output_type": "stream",
     "text": [
      "[[0. 1. 0. 1. 0. 1. 0. 1.]\n",
      " [1. 0. 1. 0. 1. 0. 1. 0.]\n",
      " [0. 1. 0. 1. 0. 1. 0. 1.]\n",
      " [1. 0. 1. 0. 1. 0. 1. 0.]\n",
      " [0. 1. 0. 1. 0. 1. 0. 1.]\n",
      " [1. 0. 1. 0. 1. 0. 1. 0.]\n",
      " [0. 1. 0. 1. 0. 1. 0. 1.]\n",
      " [1. 0. 1. 0. 1. 0. 1. 0.]]\n"
     ]
    }
   ],
   "source": [
    "import numpy as np\n",
    "x = np.zeros((8,8))\n",
    "# 1::2면 1행부터 격줄  1::3 이면 1행부터 두줄 뛰어서\n",
    "#0::2 면 맨처음부터 격줄\n",
    "\n",
    "x[1::2,::2] = 1\n",
    "x[::2,1::2] = 1\n",
    "print(x)"
   ]
  },
  {
   "cell_type": "markdown",
   "id": "bc92d88a",
   "metadata": {},
   "source": [
    "#### 22. Normalize a 5x5 random matrix (★☆☆)"
   ]
  },
  {
   "cell_type": "code",
   "execution_count": 71,
   "id": "a3709496",
   "metadata": {},
   "outputs": [
    {
     "name": "stdout",
     "output_type": "stream",
     "text": [
      "[[-1.68231181 -1.55667039 -1.2476766  -1.65750122 -1.49612269]\n",
      " [-1.21938846 -1.22476966 -1.03356551 -1.63940529 -1.18463775]\n",
      " [-1.68392424 -0.81229736 -1.15918224 -1.0304603  -1.3034045 ]\n",
      " [-0.93883708 -1.18672374 -0.75990823 -1.57130828 -0.82022321]\n",
      " [-0.80648066 -0.77226343 -0.75274789 -1.33691736 -0.88607158]]\n"
     ]
    }
   ],
   "source": [
    "#(X - 평균) / 표준편차\n",
    "import numpy as np\n",
    "a = np.random.rand(5,5)\n",
    "a = (a-np.mean(a)/np.std(a))\n",
    "print(a)"
   ]
  },
  {
   "cell_type": "markdown",
   "id": "9e2fd8ce",
   "metadata": {},
   "source": [
    "#### 23. Create a custom dtype that describes a color as four unsigned bytes (RGBA) (★☆☆)"
   ]
  },
  {
   "cell_type": "code",
   "execution_count": 22,
   "id": "5881b2b5",
   "metadata": {},
   "outputs": [
    {
     "data": {
      "text/plain": [
       "dtype([('r', 'u1'), ('g', 'u1'), ('b', 'u1'), ('a', 'u1')])"
      ]
     },
     "execution_count": 22,
     "metadata": {},
     "output_type": "execute_result"
    }
   ],
   "source": [
    "#색상을 4개의 부호 없는 바이트(RGBA)로 설명하는 사용자 지정 dtype 만들기\n",
    "#data type의 축약형 중 u는 부호없는 정수로, 각각의 색깔에 해당됨\n",
    "\n",
    "color = np.dtype([(\"r\", np.ubyte),\n",
    "                  (\"g\", np.ubyte),\n",
    "                  (\"b\", np.ubyte),\n",
    "                  (\"a\", np.ubyte)])\n",
    "\n",
    "color"
   ]
  },
  {
   "cell_type": "markdown",
   "id": "d6904ab9",
   "metadata": {},
   "source": [
    "#### 24. Multiply a 5x3 matrix by a 3x2 matrix (real matrix product) (★☆☆)"
   ]
  },
  {
   "cell_type": "code",
   "execution_count": 27,
   "id": "cb3b6528",
   "metadata": {},
   "outputs": [
    {
     "name": "stdout",
     "output_type": "stream",
     "text": [
      "=========a행렬============\n",
      "[[0.87300034 0.84671902 0.85835717]\n",
      " [0.81936355 0.04360754 0.22071846]\n",
      " [0.06282754 0.54373174 0.22310612]\n",
      " [0.97419185 0.62576519 0.31738232]\n",
      " [0.54767185 0.03366286 0.11793154]]\n",
      "========b행렬=============\n",
      "[[0.49982045 0.81164691]\n",
      " [0.75828339 0.61319111]\n",
      " [0.54606152 0.284426  ]]\n",
      "===========dot(a,b============\n",
      "[[1.54711222 1.4719077 ]\n",
      " [0.56312739 0.75455172]\n",
      " [0.56553491 0.44786243]\n",
      " [1.13473864 1.26468524]\n",
      " [0.36366145 0.49870072]]\n",
      "===========================\n",
      "[[1.54711222 1.4719077 ]\n",
      " [0.56312739 0.75455172]\n",
      " [0.56553491 0.44786243]\n",
      " [1.13473864 1.26468524]\n",
      " [0.36366145 0.49870072]]\n"
     ]
    }
   ],
   "source": [
    "#일단 5x3, 3x2의 행렬 만들기\n",
    "#np.dot() 또는 @연산자 사용\n",
    "\n",
    "a = np.random.random((5,3))\n",
    "b = np.random.random((3,2))\n",
    "\n",
    "\n",
    "print(\"=========a행렬============\")\n",
    "print(a)\n",
    "print(\"========b행렬=============\")\n",
    "print(b)\n",
    "print(\"===========dot(a,b============\")\n",
    "print(np.dot(a,b))\n",
    "print(\"===========================\")\n",
    "print(a@b)"
   ]
  },
  {
   "cell_type": "markdown",
   "id": "c57116dd",
   "metadata": {},
   "source": [
    "#### 25. Given a 1D array, negate all elements which are between 3 and 8, in place. (★☆☆)"
   ]
  },
  {
   "cell_type": "code",
   "execution_count": 46,
   "id": "4fbf1b1e",
   "metadata": {},
   "outputs": [
    {
     "data": {
      "text/plain": [
       "array([ 0,  1,  2,  3, -4, -5, -6, -7,  8,  9])"
      ]
     },
     "execution_count": 46,
     "metadata": {},
     "output_type": "execute_result"
    }
   ],
   "source": [
    "#1차원 배열에서 3에서 8사이 값을 음수화하여라\n",
    "\n",
    "import numpy as np\n",
    "a = np.arange(10)\n",
    "for i in range(10) :\n",
    "    if 3 < a[i] < 8 :\n",
    "        a[i] = -a[i]\n",
    "a"
   ]
  },
  {
   "cell_type": "markdown",
   "id": "52707d61",
   "metadata": {},
   "source": [
    "#### 26. What is the output of the following script? (★☆☆)\n",
    "```python\n",
    "# Author: Jake VanderPlas\n",
    "\n",
    "print(sum(range(5),-1))\n",
    "from numpy import *\n",
    "print(sum(range(5),-1))\n",
    "```"
   ]
  },
  {
   "cell_type": "markdown",
   "id": "bbc94855",
   "metadata": {},
   "source": [
    "-> sum은 -1을 요소로 봐서 10-1로 9로 나옴\n",
    "\n",
    "-> numpy sum은 axis로 보고 -1을(마지막 축)으로 봄 그래서 10을 나옴"
   ]
  },
  {
   "cell_type": "code",
   "execution_count": 18,
   "id": "3972ae77",
   "metadata": {},
   "outputs": [
    {
     "name": "stdout",
     "output_type": "stream",
     "text": [
      "10\n"
     ]
    }
   ],
   "source": [
    "from numpy import *\n",
    "print(sum(range(5),-1)) #10"
   ]
  },
  {
   "cell_type": "code",
   "execution_count": 58,
   "id": "b3d4f012",
   "metadata": {},
   "outputs": [
    {
     "data": {
      "text/plain": [
       "10"
      ]
     },
     "execution_count": 58,
     "metadata": {},
     "output_type": "execute_result"
    }
   ],
   "source": [
    "from numpy import *\n",
    "sum(range(5),-1) #axis문제 0,-1만됨 -> 엥 근데 axis는 1이 세로 0이 가로 아닌지..?"
   ]
  },
  {
   "cell_type": "markdown",
   "id": "5ab377fd",
   "metadata": {},
   "source": [
    "#### 27. Consider an integer vector Z, which of these expressions are legal? (★☆☆)\n",
    "```python\n",
    "Z**Z\n",
    "2 << Z >> 2\n",
    "Z <- Z\n",
    "1j*Z\n",
    "Z/1/1\n",
    "Z<Z>Z\n",
    "```"
   ]
  },
  {
   "cell_type": "code",
   "execution_count": null,
   "id": "36cc66a9",
   "metadata": {},
   "outputs": [],
   "source": [
    "#정수 벡터 Z를 생각해보십시오.이 표현식 중 어느 것이 합법적입니까?\n"
   ]
  },
  {
   "cell_type": "markdown",
   "id": "654f223f",
   "metadata": {},
   "source": [
    "#### 28. What are the result of the following expressions? (★☆☆)\n",
    "```python\n",
    "np.array(0) / np.array(0)\n",
    "np.array(0) // np.array(0)\n",
    "np.array([np.nan]).astype(int).astype(float)\n",
    "```"
   ]
  },
  {
   "cell_type": "code",
   "execution_count": 10,
   "id": "6d9d3c21",
   "metadata": {},
   "outputs": [
    {
     "name": "stdout",
     "output_type": "stream",
     "text": [
      "nan\n",
      "0\n",
      "[-2.14748365e+09]\n"
     ]
    },
    {
     "name": "stderr",
     "output_type": "stream",
     "text": [
      "C:\\Users\\hop09\\AppData\\Local\\Temp\\ipykernel_6416\\1110915717.py:2: RuntimeWarning: invalid value encountered in true_divide\n",
      "  print(np.array(0) / np.array(0))\n",
      "C:\\Users\\hop09\\AppData\\Local\\Temp\\ipykernel_6416\\1110915717.py:3: RuntimeWarning: divide by zero encountered in floor_divide\n",
      "  print(np.array(0) // np.array(0))\n"
     ]
    }
   ],
   "source": [
    "import numpy as np\n",
    "print(np.array(0) / np.array(0))\n",
    "print(np.array(0) // np.array(0))\n",
    "print(np.array([np.nan]).astype(int).astype(float)) # 이거 메카니즘???"
   ]
  },
  {
   "cell_type": "markdown",
   "id": "a7e00adf",
   "metadata": {},
   "source": [
    "#### 29. How to round away from zero a float array ? (★☆☆)"
   ]
  },
  {
   "cell_type": "markdown",
   "id": "994652d5",
   "metadata": {},
   "source": [
    "ceil : 주어진 숫자와 같은 정수 또는 주어진 숫자보다 크며 가장 가까운 정수를 반환한다"
   ]
  },
  {
   "cell_type": "code",
   "execution_count": 32,
   "id": "6ee5777d",
   "metadata": {},
   "outputs": [
    {
     "data": {
      "text/plain": [
       "12.0"
      ]
     },
     "execution_count": 32,
     "metadata": {},
     "output_type": "execute_result"
    }
   ],
   "source": [
    "round(12.34156,0)"
   ]
  },
  {
   "cell_type": "code",
   "execution_count": 5,
   "id": "cdf5e0c0",
   "metadata": {},
   "outputs": [
    {
     "name": "stdout",
     "output_type": "stream",
     "text": [
      "[2. 5. 6.]\n"
     ]
    }
   ],
   "source": [
    "import numpy as np\n",
    "arr = [1.45,4.687,5.3789]\n",
    "print(np.ceil(arr))"
   ]
  },
  {
   "cell_type": "code",
   "execution_count": 6,
   "id": "72c0f41c",
   "metadata": {},
   "outputs": [
    {
     "name": "stdout",
     "output_type": "stream",
     "text": [
      "[-1. -4. -5.]\n"
     ]
    }
   ],
   "source": [
    "import numpy as np\n",
    "arr = [-1.45,-4.687,-5.3789]\n",
    "print(np.ceil(arr))"
   ]
  },
  {
   "cell_type": "markdown",
   "id": "56be1f05",
   "metadata": {},
   "source": [
    "#### 30. How to find common values between two arrays? (★☆☆)"
   ]
  },
  {
   "cell_type": "code",
   "execution_count": 7,
   "id": "62eeedc0",
   "metadata": {},
   "outputs": [
    {
     "name": "stdout",
     "output_type": "stream",
     "text": [
      "[2 4 6 7]\n",
      "[[0.02963257 0.37733076 0.74210059 0.82824492 0.63282688]\n",
      " [0.20628763 0.68614304 0.9991014  0.38848165 0.73208595]\n",
      " [0.0290395  0.6260289  0.18585198 0.91042981 0.27774385]\n",
      " [0.53159569 0.62395048 0.71867149 0.91342404 0.83362683]\n",
      " [0.46912762 0.43579197 0.34048649 0.27879609 0.37105518]]\n",
      "[[0.11406654 0.87442703 0.22775328 0.68339374 0.5837027 ]\n",
      " [0.03600733 0.15673107 0.77019645 0.21740728 0.0384394 ]\n",
      " [0.63573157 0.93603005 0.98368724 0.87395658 0.70895536]\n",
      " [0.24757263 0.11049719 0.44368531 0.63183132 0.53930623]\n",
      " [0.82539111 0.78577683 0.4517462  0.52055189 0.09638142]]\n"
     ]
    },
    {
     "ename": "IndexError",
     "evalue": "index 5 is out of bounds for axis 1 with size 5",
     "output_type": "error",
     "traceback": [
      "\u001b[1;31m---------------------------------------------------------------------------\u001b[0m",
      "\u001b[1;31mIndexError\u001b[0m                                Traceback (most recent call last)",
      "\u001b[1;32m~\\AppData\\Local\\Temp\\ipykernel_6416\\56959470.py\u001b[0m in \u001b[0;36m<module>\u001b[1;34m\u001b[0m\n\u001b[0;32m     13\u001b[0m     \u001b[1;32mfor\u001b[0m \u001b[0mj\u001b[0m \u001b[1;32min\u001b[0m \u001b[0mrange\u001b[0m\u001b[1;33m(\u001b[0m\u001b[1;36m5\u001b[0m\u001b[1;33m)\u001b[0m \u001b[1;33m:\u001b[0m\u001b[1;33m\u001b[0m\u001b[1;33m\u001b[0m\u001b[0m\n\u001b[0;32m     14\u001b[0m         \u001b[0mj\u001b[0m\u001b[1;33m+=\u001b[0m\u001b[1;36m1\u001b[0m\u001b[1;33m\u001b[0m\u001b[1;33m\u001b[0m\u001b[0m\n\u001b[1;32m---> 15\u001b[1;33m     \u001b[1;32mif\u001b[0m \u001b[0ma\u001b[0m\u001b[1;33m[\u001b[0m\u001b[0mi\u001b[0m\u001b[1;33m,\u001b[0m\u001b[0mj\u001b[0m\u001b[1;33m]\u001b[0m \u001b[1;33m==\u001b[0m \u001b[0mb\u001b[0m \u001b[1;33m[\u001b[0m\u001b[0mi\u001b[0m\u001b[1;33m,\u001b[0m\u001b[0mj\u001b[0m\u001b[1;33m]\u001b[0m \u001b[1;33m:\u001b[0m\u001b[1;33m\u001b[0m\u001b[1;33m\u001b[0m\u001b[0m\n\u001b[0m\u001b[0;32m     16\u001b[0m         \u001b[0mprint\u001b[0m\u001b[1;33m(\u001b[0m\u001b[0ma\u001b[0m\u001b[1;33m[\u001b[0m\u001b[0mi\u001b[0m\u001b[1;33m,\u001b[0m\u001b[0mj\u001b[0m\u001b[1;33m]\u001b[0m\u001b[1;33m)\u001b[0m\u001b[1;33m\u001b[0m\u001b[1;33m\u001b[0m\u001b[0m\n\u001b[0;32m     17\u001b[0m     \u001b[0mi\u001b[0m\u001b[1;33m+=\u001b[0m\u001b[1;36m1\u001b[0m\u001b[1;33m\u001b[0m\u001b[1;33m\u001b[0m\u001b[0m\n",
      "\u001b[1;31mIndexError\u001b[0m: index 5 is out of bounds for axis 1 with size 5"
     ]
    }
   ],
   "source": [
    "import numpy as np\n",
    "Z1 = np.random.randint(0,10,10)\n",
    "Z2 = np.random.randint(0,10,10)\n",
    "print(np.intersect1d(Z1,Z2))\n",
    "\n",
    "import numpy as np\n",
    "a = np.array([1,4,6,8,9,10])\n",
    "b = np.array([1,6,2,7,9,1])\n",
    "\n",
    "print(a)\n",
    "print(b)\n",
    "for i in range(5) :\n",
    "    for j in range(5) :\n",
    "        j+=1\n",
    "    if a[i,j] == b [i,j] :\n",
    "        print(a[i,j])\n",
    "    i+=1\n"
   ]
  },
  {
   "cell_type": "markdown",
   "id": "83567c5c",
   "metadata": {},
   "source": [
    "#### 31. How to ignore all numpy warnings (not recommended)? (★☆☆)"
   ]
  },
  {
   "cell_type": "code",
   "execution_count": 23,
   "id": "fa02b423",
   "metadata": {},
   "outputs": [
    {
     "data": {
      "text/plain": [
       "{'divide': 'ignore', 'over': 'ignore', 'under': 'ignore', 'invalid': 'ignore'}"
      ]
     },
     "execution_count": 23,
     "metadata": {},
     "output_type": "execute_result"
    }
   ],
   "source": [
    "import numpy as np\n",
    "np.seterr(all=\"ignore\") #모든 오류 무시"
   ]
  },
  {
   "cell_type": "code",
   "execution_count": 21,
   "id": "9ac2db4b",
   "metadata": {},
   "outputs": [],
   "source": [
    "old_settings : dict"
   ]
  },
  {
   "cell_type": "code",
   "execution_count": 24,
   "id": "b0bf268b",
   "metadata": {
    "scrolled": true
   },
   "outputs": [
    {
     "data": {
      "text/plain": [
       "<function numpy.seterr(all=None, divide=None, over=None, under=None, invalid=None)>"
      ]
     },
     "execution_count": 24,
     "metadata": {},
     "output_type": "execute_result"
    }
   ],
   "source": [
    "np.seterr"
   ]
  },
  {
   "cell_type": "code",
   "execution_count": null,
   "id": "350faff0",
   "metadata": {},
   "outputs": [],
   "source": []
  },
  {
   "cell_type": "markdown",
   "id": "0a7449b6",
   "metadata": {},
   "source": [
    "#### 32. Is the following expressions true? (★☆☆)\n",
    "```python\n",
    "np.sqrt(-1) == np.emath.sqrt(-1)\n",
    "```"
   ]
  },
  {
   "cell_type": "code",
   "execution_count": 4,
   "id": "69eb4456",
   "metadata": {},
   "outputs": [
    {
     "name": "stderr",
     "output_type": "stream",
     "text": [
      "C:\\Users\\hop09\\AppData\\Local\\Temp\\ipykernel_8516\\244602691.py:1: RuntimeWarning: invalid value encountered in sqrt\n",
      "  np.sqrt(-1) == np.emath.sqrt(-1)\n"
     ]
    },
    {
     "data": {
      "text/plain": [
       "False"
      ]
     },
     "execution_count": 4,
     "metadata": {},
     "output_type": "execute_result"
    }
   ],
   "source": [
    "np.sqrt(-1) == np.emath.sqrt(-1)"
   ]
  },
  {
   "cell_type": "markdown",
   "id": "9d434219",
   "metadata": {},
   "source": [
    "#### 33. How to get the dates of yesterday, today and tomorrow? (★☆☆)"
   ]
  },
  {
   "cell_type": "code",
   "execution_count": 24,
   "id": "0b192943",
   "metadata": {},
   "outputs": [
    {
     "name": "stdout",
     "output_type": "stream",
     "text": [
      "2023-01-10\n",
      "2023-01-09\n",
      "2023-01-11\n"
     ]
    }
   ],
   "source": [
    "from datetime import date, timedelta\n",
    "today = date.today()\n",
    "yes = date.today()- timedelta(1)\n",
    "tom = date.today()+ timedelta(1)\n",
    "\n",
    "print(today)\n",
    "print(yes)\n",
    "print(tom)"
   ]
  },
  {
   "cell_type": "markdown",
   "id": "b0e44339",
   "metadata": {},
   "source": [
    "#### 34. How to get all the dates corresponding to the month of July 2016? (★★☆)"
   ]
  },
  {
   "cell_type": "code",
   "execution_count": 81,
   "id": "8bf7daa6",
   "metadata": {
    "scrolled": true
   },
   "outputs": [
    {
     "name": "stdout",
     "output_type": "stream",
     "text": [
      "DatetimeIndex(['2016-07-01', '2016-07-02', '2016-07-03', '2016-07-04',\n",
      "               '2016-07-05', '2016-07-06', '2016-07-07', '2016-07-08',\n",
      "               '2016-07-09', '2016-07-10', '2016-07-11', '2016-07-12',\n",
      "               '2016-07-13', '2016-07-14', '2016-07-15', '2016-07-16',\n",
      "               '2016-07-17', '2016-07-18', '2016-07-19', '2016-07-20',\n",
      "               '2016-07-21', '2016-07-22', '2016-07-23', '2016-07-24',\n",
      "               '2016-07-25', '2016-07-26', '2016-07-27', '2016-07-28',\n",
      "               '2016-07-29', '2016-07-30', '2016-07-31'],\n",
      "              dtype='datetime64[ns]', freq='D')\n"
     ]
    }
   ],
   "source": [
    "import pandas as pd\n",
    "\n",
    "july_2016 = pd.date_range(start='2016-07-01', end='2016-07-31', freq='D')\n",
    "print(july_2016)"
   ]
  },
  {
   "cell_type": "code",
   "execution_count": 82,
   "id": "388cde46",
   "metadata": {},
   "outputs": [
    {
     "name": "stdout",
     "output_type": "stream",
     "text": [
      "2016-07-01 00:00:00\n",
      "2016-07-02 00:00:00\n",
      "2016-07-03 00:00:00\n",
      "2016-07-04 00:00:00\n",
      "2016-07-05 00:00:00\n",
      "2016-07-06 00:00:00\n",
      "2016-07-07 00:00:00\n",
      "2016-07-08 00:00:00\n",
      "2016-07-09 00:00:00\n",
      "2016-07-10 00:00:00\n",
      "2016-07-11 00:00:00\n",
      "2016-07-12 00:00:00\n",
      "2016-07-13 00:00:00\n",
      "2016-07-14 00:00:00\n",
      "2016-07-15 00:00:00\n",
      "2016-07-16 00:00:00\n",
      "2016-07-17 00:00:00\n",
      "2016-07-18 00:00:00\n",
      "2016-07-19 00:00:00\n",
      "2016-07-20 00:00:00\n",
      "2016-07-21 00:00:00\n",
      "2016-07-22 00:00:00\n",
      "2016-07-23 00:00:00\n",
      "2016-07-24 00:00:00\n",
      "2016-07-25 00:00:00\n",
      "2016-07-26 00:00:00\n",
      "2016-07-27 00:00:00\n",
      "2016-07-28 00:00:00\n",
      "2016-07-29 00:00:00\n",
      "2016-07-30 00:00:00\n",
      "2016-07-31 00:00:00\n"
     ]
    }
   ],
   "source": [
    "import datetime\n",
    "\n",
    "dates = []\n",
    "for i in range(1, 32):\n",
    "    date = datetime.datetime(2016, 7, i)\n",
    "    dates.append(date)\n",
    "    print(date)"
   ]
  },
  {
   "cell_type": "code",
   "execution_count": 88,
   "id": "aef0a6e3",
   "metadata": {},
   "outputs": [
    {
     "name": "stdout",
     "output_type": "stream",
     "text": [
      "[datetime.datetime(2016, 7, 1, 0, 0), datetime.datetime(2016, 7, 2, 0, 0), datetime.datetime(2016, 7, 3, 0, 0), datetime.datetime(2016, 7, 4, 0, 0), datetime.datetime(2016, 7, 5, 0, 0), datetime.datetime(2016, 7, 6, 0, 0), datetime.datetime(2016, 7, 7, 0, 0), datetime.datetime(2016, 7, 8, 0, 0), datetime.datetime(2016, 7, 9, 0, 0), datetime.datetime(2016, 7, 10, 0, 0), datetime.datetime(2016, 7, 11, 0, 0), datetime.datetime(2016, 7, 12, 0, 0), datetime.datetime(2016, 7, 13, 0, 0), datetime.datetime(2016, 7, 14, 0, 0), datetime.datetime(2016, 7, 15, 0, 0), datetime.datetime(2016, 7, 16, 0, 0), datetime.datetime(2016, 7, 17, 0, 0), datetime.datetime(2016, 7, 18, 0, 0), datetime.datetime(2016, 7, 19, 0, 0), datetime.datetime(2016, 7, 20, 0, 0), datetime.datetime(2016, 7, 21, 0, 0), datetime.datetime(2016, 7, 22, 0, 0), datetime.datetime(2016, 7, 23, 0, 0), datetime.datetime(2016, 7, 24, 0, 0), datetime.datetime(2016, 7, 25, 0, 0), datetime.datetime(2016, 7, 26, 0, 0), datetime.datetime(2016, 7, 27, 0, 0), datetime.datetime(2016, 7, 28, 0, 0), datetime.datetime(2016, 7, 29, 0, 0), datetime.datetime(2016, 7, 30, 0, 0), datetime.datetime(2016, 7, 31, 0, 0)] \t\n"
     ]
    }
   ],
   "source": [
    "from datetime import datetime\n",
    "\n",
    "dates = [datetime(2016, 7, i) for i in range(1, 32)]\n",
    "print(dates, '\\t')"
   ]
  },
  {
   "cell_type": "markdown",
   "id": "f9b3c24a",
   "metadata": {},
   "source": [
    "#### 35. How to compute ((A+B)*(-A/2)) in place (without copy)? (★★☆)\n",
    "\n",
    "제자리에서 ((A+B)*(-A/2)를 계산하는 방법은 무엇입니까?"
   ]
  },
  {
   "cell_type": "code",
   "execution_count": null,
   "id": "40da18c9",
   "metadata": {},
   "outputs": [],
   "source": []
  },
  {
   "cell_type": "markdown",
   "id": "cbb64ee9",
   "metadata": {},
   "source": [
    "#### 36. Extract the integer part of a random array of positive numbers using 4 different methods (★★☆)"
   ]
  },
  {
   "cell_type": "code",
   "execution_count": 61,
   "id": "f83748bd",
   "metadata": {},
   "outputs": [
    {
     "data": {
      "text/plain": [
       "array([  1,   3,   4,   7,   8,   3,  12, 234,  46])"
      ]
     },
     "execution_count": 61,
     "metadata": {},
     "output_type": "execute_result"
    }
   ],
   "source": [
    "import numpy as np\n",
    "\n",
    "a = np.array([1,3,4.56,7,8.96,3,12,234,46.67])\n",
    "\n",
    "a.astype(int)"
   ]
  },
  {
   "cell_type": "code",
   "execution_count": 62,
   "id": "77047ca8",
   "metadata": {
    "scrolled": true
   },
   "outputs": [
    {
     "data": {
      "text/plain": [
       "array([  1.,   3.,   4.,   7.,   8.,   3.,  12., 234.,  46.])"
      ]
     },
     "execution_count": 62,
     "metadata": {},
     "output_type": "execute_result"
    }
   ],
   "source": [
    "a//1"
   ]
  },
  {
   "cell_type": "code",
   "execution_count": 68,
   "id": "006e73ad",
   "metadata": {
    "scrolled": true
   },
   "outputs": [
    {
     "data": {
      "text/plain": [
       "array([  1,   3,   4,   7,   8,   3,  12, 234,  46])"
      ]
     },
     "execution_count": 68,
     "metadata": {},
     "output_type": "execute_result"
    }
   ],
   "source": [
    "np.asarray(a, dtype = int)"
   ]
  },
  {
   "cell_type": "code",
   "execution_count": 71,
   "id": "c021f4db",
   "metadata": {},
   "outputs": [
    {
     "data": {
      "text/plain": [
       "array([  1.,   3.,   5.,   7.,   9.,   3.,  12., 234.,  47.])"
      ]
     },
     "execution_count": 71,
     "metadata": {},
     "output_type": "execute_result"
    }
   ],
   "source": [
    "np.round(a, 0)"
   ]
  },
  {
   "cell_type": "markdown",
   "id": "8418e1e4",
   "metadata": {},
   "source": [
    "#### 37. Create a 5x5 matrix with row values ranging from 0 to 4 (★★☆)"
   ]
  },
  {
   "cell_type": "code",
   "execution_count": 51,
   "id": "08e726e4",
   "metadata": {},
   "outputs": [
    {
     "data": {
      "text/plain": [
       "array([[2, 2, 0, 0, 0],\n",
       "       [3, 2, 1, 0, 1],\n",
       "       [1, 3, 2, 0, 1],\n",
       "       [3, 3, 0, 0, 0],\n",
       "       [0, 2, 0, 3, 0]])"
      ]
     },
     "execution_count": 51,
     "metadata": {},
     "output_type": "execute_result"
    }
   ],
   "source": [
    "import numpy as np\n",
    "\n",
    "np.random.randint(0,4,25).reshape(5,5)"
   ]
  },
  {
   "cell_type": "markdown",
   "id": "a8420e2c",
   "metadata": {},
   "source": [
    "#### 38. Consider a generator function that generates 10 integers and use it to build an array (★☆☆)\n",
    "\n",
    "10개의 정수를 생성하는 생성기 함수를 고려하여 배열을 구축합니다"
   ]
  },
  {
   "cell_type": "code",
   "execution_count": 46,
   "id": "c58e77ad",
   "metadata": {},
   "outputs": [
    {
     "data": {
      "text/plain": [
       "array([21,  3, 80, 67, 19, 50, 63, 45, 21, 16])"
      ]
     },
     "execution_count": 46,
     "metadata": {},
     "output_type": "execute_result"
    }
   ],
   "source": [
    "import numpy as np\n",
    "\n",
    "np.random.randint(1,100,10)"
   ]
  },
  {
   "cell_type": "markdown",
   "id": "deab3e77",
   "metadata": {},
   "source": [
    "#### 39. Create a vector of size 10 with values ranging from 0 to 1, both excluded (★★☆)"
   ]
  },
  {
   "cell_type": "code",
   "execution_count": 44,
   "id": "2c5fafc8",
   "metadata": {},
   "outputs": [
    {
     "data": {
      "text/plain": [
       "array([0.77886672, 0.39997914, 0.05389563, 0.14552878, 0.09168136,\n",
       "       0.79465681, 0.3200389 , 0.39629516, 0.59509613, 0.50367111])"
      ]
     },
     "execution_count": 44,
     "metadata": {},
     "output_type": "execute_result"
    }
   ],
   "source": [
    "import numpy as np\n",
    "\n",
    "a = np.random.rand(10)\n",
    "a"
   ]
  },
  {
   "cell_type": "markdown",
   "id": "5bb5de9c",
   "metadata": {},
   "source": [
    "#### 40. Create a random vector of size 10 and sort it (★★☆)"
   ]
  },
  {
   "cell_type": "code",
   "execution_count": 39,
   "id": "b9916965",
   "metadata": {},
   "outputs": [
    {
     "data": {
      "text/plain": [
       "array([ 8, 27, 34, 34, 35, 46, 47, 54, 54, 83])"
      ]
     },
     "execution_count": 39,
     "metadata": {},
     "output_type": "execute_result"
    }
   ],
   "source": [
    "import numpy as np\n",
    "\n",
    "a = np.random.randint(0,100,10)\n",
    "np.sort(a)"
   ]
  },
  {
   "cell_type": "markdown",
   "id": "ebc8ad64",
   "metadata": {},
   "source": [
    "#### 41. How to sum a small array faster than np.sum? (★★☆)"
   ]
  },
  {
   "cell_type": "code",
   "execution_count": 40,
   "id": "e7ac9923",
   "metadata": {},
   "outputs": [
    {
     "data": {
      "text/plain": [
       "45"
      ]
     },
     "execution_count": 40,
     "metadata": {},
     "output_type": "execute_result"
    }
   ],
   "source": [
    "a = np.arange(10)\n",
    "np.add.reduce(a)"
   ]
  },
  {
   "cell_type": "markdown",
   "id": "4abfb753",
   "metadata": {},
   "source": [
    "#### 42. Consider two random array A and B, check if they are equal (★★☆)"
   ]
  },
  {
   "cell_type": "markdown",
   "id": "510185c2",
   "metadata": {},
   "source": [
    "##### 1. == 랑 np.all()\n",
    "\n",
    "- (a==b).all()\n",
    "- numpy.all()메소드는 주어진 축에있는 모든 입력 배열 요소가True이면 True를 반환하고 그렇지 않으면 False를 반환\n",
    "\n",
    "##### 2. np.array_equal(a,b)\n",
    "\n",
    "- numpy.array_equiv(a1, a2)메소드는 배열a1및a2를 입력으로 취하고 두 배열의 모양과 요소가 동일하면True를 리턴\n",
    "\n",
    "##### 3. numpy.allclose(a, b, rtol=1e-05, atol=1e-08, equal_nan=False)\n",
    " \n",
    "- rtol, atol : 오차허용 범위, 보통 0.0000012 정도의 작은 숫자를 오차허용 범위로 논다. nan이 있으면 false반환\n",
    " \n",
    "##### 4. numpy.array_equal(a, b, equal_nan=False)\n",
    "\n",
    "- 두 배열의 모양과 요소가 동일한 경우True를 리턴하고 그렇지 않으면 메소드가False를 리턴"
   ]
  },
  {
   "cell_type": "code",
   "execution_count": 30,
   "id": "d265b5f6",
   "metadata": {},
   "outputs": [
    {
     "data": {
      "text/plain": [
       "False"
      ]
     },
     "execution_count": 30,
     "metadata": {},
     "output_type": "execute_result"
    }
   ],
   "source": [
    "import numpy as np\n",
    "a = np.random.rand(2,5)\n",
    "b = np.random.rand(2,5)\n",
    "\n",
    "# a==b\n",
    "# (a==b).all()\n",
    "# np.all(a1==a2)\n",
    "# np.array_equal(a,b)"
   ]
  },
  {
   "cell_type": "markdown",
   "id": "c8fad2be",
   "metadata": {},
   "source": [
    "#### 43. Make an array immutable (read-only) (★★☆)"
   ]
  },
  {
   "cell_type": "code",
   "execution_count": 16,
   "id": "29316906",
   "metadata": {},
   "outputs": [
    {
     "data": {
      "text/plain": [
       "(array([0, 1, 2, 3, 4]), array([5, 6, 7, 8, 9]))"
      ]
     },
     "execution_count": 16,
     "metadata": {},
     "output_type": "execute_result"
    }
   ],
   "source": [
    "import numpy as np\n",
    "a = np.arange(10).reshape(-1,5)\n",
    "b = tuple(a)\n",
    "b"
   ]
  },
  {
   "cell_type": "code",
   "execution_count": 18,
   "id": "2712ff5b",
   "metadata": {},
   "outputs": [
    {
     "ename": "ValueError",
     "evalue": "assignment destination is read-only",
     "output_type": "error",
     "traceback": [
      "\u001b[1;31m---------------------------------------------------------------------------\u001b[0m",
      "\u001b[1;31mValueError\u001b[0m                                Traceback (most recent call last)",
      "\u001b[1;32m~\\AppData\\Local\\Temp\\ipykernel_7844\\1155495926.py\u001b[0m in \u001b[0;36m<module>\u001b[1;34m\u001b[0m\n\u001b[0;32m      4\u001b[0m \u001b[0ma\u001b[0m\u001b[1;33m.\u001b[0m\u001b[0mflags\u001b[0m\u001b[1;33m.\u001b[0m\u001b[0mwriteable\u001b[0m \u001b[1;33m=\u001b[0m \u001b[1;32mFalse\u001b[0m\u001b[1;33m\u001b[0m\u001b[1;33m\u001b[0m\u001b[0m\n\u001b[0;32m      5\u001b[0m \u001b[1;33m\u001b[0m\u001b[0m\n\u001b[1;32m----> 6\u001b[1;33m \u001b[0ma\u001b[0m\u001b[1;33m[\u001b[0m\u001b[1;36m1\u001b[0m\u001b[1;33m,\u001b[0m\u001b[1;36m3\u001b[0m\u001b[1;33m]\u001b[0m \u001b[1;33m=\u001b[0m \u001b[1;36m1\u001b[0m\u001b[1;33m\u001b[0m\u001b[1;33m\u001b[0m\u001b[0m\n\u001b[0m",
      "\u001b[1;31mValueError\u001b[0m: assignment destination is read-only"
     ]
    }
   ],
   "source": [
    "import numpy as np\n",
    "a = np.arange(10).reshape(-1,5)\n",
    "\n",
    "a.flags.writeable = False\n",
    "\n",
    "a[1,3] = 1"
   ]
  },
  {
   "attachments": {
    "image.png": {
     "image/png": "[encoded data removed]"
    }
   },
   "cell_type": "markdown",
   "id": "91b25fb1",
   "metadata": {},
   "source": [
    "#### 44. Consider a random 10x2 matrix representing cartesian coordinates, convert them to polar coordinates (★★☆)\n",
    "\n",
    "데카르트 좌표를 나타내는 임의의 10x2 행렬을 고려하여 극좌표로 변환합니다\n",
    " \n",
    "출처 : https://brilliant.org/wiki/convert-cartesian-coordinates-to-polar/\n",
    "\n",
    "공식 ![image.png](attachment:image.png)"
   ]
  },
  {
   "cell_type": "code",
   "execution_count": 6,
   "id": "3f5fb344",
   "metadata": {},
   "outputs": [
    {
     "name": "stdout",
     "output_type": "stream",
     "text": [
      "[0.24036232 1.01329202 0.84107737 0.88119518 0.88568768 1.2430114\n",
      " 1.00129557 0.891875   0.90118079 1.13174587] [1.35432514 0.85949525 1.18582261 1.28538107 0.39937548 0.74362341\n",
      " 0.54440168 0.26982111 0.26780135 0.58215825]\n"
     ]
    }
   ],
   "source": [
    "import numpy as np\n",
    "a = np.random.random((10,2))\n",
    "x, y = a[:,0],a[:,1] #x에 0열, y에 1열 할당\n",
    "r = np.sqrt(x**2+y**2)\n",
    "p = np.arctan2(y,x) #arctan2 : 극좌표계 변경 함수\n",
    "\n",
    "print(r,p)"
   ]
  },
  {
   "cell_type": "markdown",
   "id": "7e4116bc",
   "metadata": {},
   "source": [
    "#### 45. Create random vector of size 10 and replace the maximum value by 0 (★★☆)\n",
    "\n",
    "크기가 10인 랜덤 벡터를 생성하고 최대값을 찾아 0으로 바꿉니다."
   ]
  },
  {
   "cell_type": "code",
   "execution_count": 19,
   "id": "b4e895f6",
   "metadata": {},
   "outputs": [
    {
     "name": "stdout",
     "output_type": "stream",
     "text": [
      "10\n",
      "========================\n",
      "[0.60173955 0.64602908 0.47183409 0.         0.82992999 0.80259477\n",
      " 0.81005999 0.25214907 0.52190688 0.7926607 ]\n"
     ]
    }
   ],
   "source": [
    "import numpy as np\n",
    "\n",
    "a = np.random.rand(10)\n",
    "a[np.where(a == np.max(a))] = 0\n",
    "print(np.size(a))\n",
    "print(\"========================\")\n",
    "print(a)"
   ]
  },
  {
   "cell_type": "markdown",
   "id": "f5b68c55",
   "metadata": {},
   "source": [
    "#### 46. Create a structured array with `x` and `y` coordinates covering the [0,1]x[0,1] area (★★☆)\n",
    "\n",
    "- [0,1]x[0,1] 영역을 커버하는 x 및 y 좌표를 갖는 구조화된 배열을 생성\n",
    "- 그리드포인트(x,y) 생성하여 함수 값 계산\n",
    "- np.meshgrid(구간 시작점, 구간 끝점, 구간 내 숫자 개수)를 통해 사각형 영역 구성하는 x축 및 y축 값을 인수로 받아 사각형 영역조합을 출력"
   ]
  },
  {
   "cell_type": "code",
   "execution_count": 29,
   "id": "32fd3691",
   "metadata": {},
   "outputs": [
    {
     "name": "stdout",
     "output_type": "stream",
     "text": [
      "[[(0.  , 0.  ) (0.25, 0.  ) (0.5 , 0.  ) (0.75, 0.  ) (1.  , 0.  )]\n",
      " [(0.  , 0.25) (0.25, 0.25) (0.5 , 0.25) (0.75, 0.25) (1.  , 0.25)]\n",
      " [(0.  , 0.5 ) (0.25, 0.5 ) (0.5 , 0.5 ) (0.75, 0.5 ) (1.  , 0.5 )]\n",
      " [(0.  , 0.75) (0.25, 0.75) (0.5 , 0.75) (0.75, 0.75) (1.  , 0.75)]\n",
      " [(0.  , 1.  ) (0.25, 1.  ) (0.5 , 1.  ) (0.75, 1.  ) (1.  , 1.  )]]\n"
     ]
    }
   ],
   "source": [
    "import numpy as np\n",
    "\n",
    "a = np.zeros((5,5), dtype=[('x', float), ('y', float)])\n",
    "\n",
    "a['x'],a['y'] = np.meshgrid(np.linspace(0, 1, 5), np.linspace(0, 1, 5))\n",
    "\n",
    "print(a)\n"
   ]
  },
  {
   "cell_type": "markdown",
   "id": "378bc4e9",
   "metadata": {},
   "source": [
    "#### 47. Given two arrays, X and Y, construct the Cauchy matrix C (Cij =1/(xi - yj)) (★★☆)"
   ]
  },
  {
   "cell_type": "code",
   "execution_count": null,
   "id": "43282e51",
   "metadata": {},
   "outputs": [],
   "source": []
  },
  {
   "cell_type": "markdown",
   "id": "7f45d2f9",
   "metadata": {},
   "source": [
    "#### 48. Print the minimum and maximum representable value for each numpy scalar type (★★☆)\n",
    "\n",
    "- 각 데이터 타입 별 표시할 수 있는 최소 및 최대 값을 출력하라\n",
    "- iinfo()는 int에 대한 정보\n",
    "- finfo()는 float에 대한 정보\n",
    "- .eps는 표현가능한 가장 작은 값을 반환"
   ]
  },
  {
   "cell_type": "code",
   "execution_count": 83,
   "id": "a7f37b9e",
   "metadata": {},
   "outputs": [
    {
     "name": "stdout",
     "output_type": "stream",
     "text": [
      "=========정수값 중 가장 작은 값=========\n",
      "-128\n",
      "127\n",
      "=========정수값 중 가장 작은 값=========\n",
      "-2147483648\n",
      "2147483647\n",
      "=========정수값 중 가장 작은 값=========\n",
      "-9223372036854775808\n",
      "9223372036854775807\n",
      "=========실수값 중 가장 작은 값=========\n",
      "-3.4028235e+38\n",
      "3.4028235e+38\n",
      "1.1920929e-07\n",
      "=========실수값 중 가장 작은 값=========\n",
      "-1.7976931348623157e+308\n",
      "1.7976931348623157e+308\n",
      "2.220446049250313e-16\n"
     ]
    }
   ],
   "source": [
    "for dtype in [np.int8, np.int32, np.int64]:\n",
    "    print(\"=========정수값 중 가장 작은 값=========\")\n",
    "    print(np.iinfo(dtype).min)\n",
    "    print(np.iinfo(dtype).max)\n",
    "\n",
    "for dtype in [np.float32, np.float64] :\n",
    "    print(\"=========실수값 중 가장 작은 값=========\")\n",
    "    print(np.finfo(dtype).min)\n",
    "    print(np.finfo(dtype).max)\n",
    "    print(np.finfo(dtype).eps)\n",
    "    "
   ]
  },
  {
   "cell_type": "markdown",
   "id": "1d269f07",
   "metadata": {},
   "source": [
    "#### 49. How to print all the values of an array? (★★☆)"
   ]
  },
  {
   "cell_type": "code",
   "execution_count": 69,
   "id": "fde90b07",
   "metadata": {},
   "outputs": [
    {
     "name": "stdout",
     "output_type": "stream",
     "text": [
      "[[0.99537311 0.44691594 0.6999947  0.22536507 0.86413512 0.38082307\n",
      "  0.78555679 0.77753924 0.43928676 0.92659442]\n",
      " [0.8570074  0.39899465 0.24272556 0.59363471 0.25688394 0.27629698\n",
      "  0.95133826 0.57594586 0.69407236 0.66607165]\n",
      " [0.72690006 0.94646322 0.12967711 0.0351425  0.36376689 0.07849899\n",
      "  0.78001782 0.06262655 0.68723943 0.27483145]\n",
      " [0.65029601 0.95246629 0.71810729 0.9774328  0.83782443 0.4327844\n",
      "  0.35122159 0.86055481 0.62625321 0.80835646]\n",
      " [0.36875064 0.86003877 0.01366895 0.49854504 0.62976461 0.29013904\n",
      "  0.27892087 0.14558827 0.83588137 0.11334364]\n",
      " [0.7756171  0.63506774 0.7828365  0.58920506 0.05463355 0.7202927\n",
      "  0.11385251 0.58289256 0.20121567 0.11088083]\n",
      " [0.59397782 0.49652022 0.95323291 0.8958482  0.41055317 0.64981636\n",
      "  0.93663595 0.11979126 0.44729125 0.35015151]\n",
      " [0.37787483 0.57724864 0.6596026  0.16428436 0.88424438 0.29381607\n",
      "  0.01153276 0.02438813 0.40155366 0.37245902]\n",
      " [0.08903122 0.69603922 0.42077249 0.46198669 0.75521295 0.318628\n",
      "  0.01094358 0.21209779 0.69878971 0.17349216]\n",
      " [0.0436074  0.93310088 0.81031979 0.88016662 0.0247722  0.55272343\n",
      "  0.56878547 0.37022175 0.65916024 0.02123965]]\n"
     ]
    }
   ],
   "source": [
    "import numpy as np\n",
    "a = np.random.random((10,10))\n",
    "print(a)"
   ]
  },
  {
   "cell_type": "markdown",
   "id": "ed655678",
   "metadata": {},
   "source": [
    "#### 50. How to find the closest value (to a given scalar) in a vector? (★★☆)\n",
    "- 벡터에서 주어진 값에 가장 가까운 값을 찾는 방법은?\n",
    "- np.argmin() 메서드를 통해 찾기"
   ]
  },
  {
   "cell_type": "code",
   "execution_count": 94,
   "id": "55e0812f",
   "metadata": {},
   "outputs": [
    {
     "name": "stdout",
     "output_type": "stream",
     "text": [
      "[0.08147921 0.19312482 0.79759898 0.29532757 0.75807524 0.2890233\n",
      " 0.33880672 0.4224159  0.30915478 0.615661   0.86410557 0.55295755\n",
      " 0.14496679 0.02078031 0.70272869 0.64122529 0.20907997 0.28371823\n",
      " 0.84419702 0.12023445 0.75066602 0.23278375 0.8740961  0.17257837\n",
      " 0.44076502 0.98152476 0.64687928 0.78942458 0.64781007 0.31297966\n",
      " 0.02356348 0.93538606 0.85765861 0.58650544 0.69095039 0.50401775\n",
      " 0.24761067 0.37399383 0.05915545 0.21945309 0.99212249 0.01244119\n",
      " 0.73977414 0.72706182 0.74229515 0.53636923 0.41664138 0.0411072\n",
      " 0.95674755 0.60552967 0.21690352 0.94860758 0.55177161 0.19119852\n",
      " 0.38685888 0.41721408 0.0840167  0.2249186  0.36138959 0.73491688\n",
      " 0.47726687 0.72230515 0.45547551 0.43121046 0.92022322 0.82159421\n",
      " 0.23949566 0.02354134 0.92942449 0.90155442 0.03879417 0.13045889\n",
      " 0.21002112 0.55757515 0.79731986 0.92000508 0.24199267 0.36250161\n",
      " 0.61157205 0.18855927 0.06199074 0.48664711 0.67352545 0.65241173\n",
      " 0.08632914 0.70325598 0.39191482 0.29583991 0.9437899  0.83757304\n",
      " 0.89207147 0.73603662 0.81061548 0.90864745 0.12664725 0.40803344\n",
      " 0.38671482 0.25079153 0.9466115  0.13749042] \n",
      " \n",
      " 40\n"
     ]
    }
   ],
   "source": [
    "x = 7 #주어진값\n",
    "import numpy as np\n",
    "a = np.random.rand(100)\n",
    "\n",
    "z = (np.abs(a-x)).argmin()\n",
    "print(a,\"\\n\",\"\\n\",z)"
   ]
  },
  {
   "cell_type": "markdown",
   "id": "3f73f88f",
   "metadata": {},
   "source": [
    "#### 51. Create a structured array representing a position (x,y) and a color (r,g,b) (★★☆)\n",
    "\n",
    "- 위치(x,y) 및 색상(r,g,b)을 나타내는 구조화된 배열을 작성합니다.\n",
    "- np.zeros()를 통해 빈 배열 생성"
   ]
  },
  {
   "cell_type": "code",
   "execution_count": 80,
   "id": "74b51105",
   "metadata": {},
   "outputs": [
    {
     "name": "stdout",
     "output_type": "stream",
     "text": [
      "[(0.193954  , 0.01871258, 139, 121, 28)\n",
      " (0.56978979, 0.12628865, 139, 121, 28)\n",
      " (0.47215496, 0.63198373, 139, 121, 28)\n",
      " (0.15535698, 0.61949641, 139, 121, 28)\n",
      " (0.57190397, 0.99232865, 139, 121, 28)\n",
      " (0.29537241, 0.14711978, 139, 121, 28)\n",
      " (0.94998003, 0.72417867, 139, 121, 28)\n",
      " (0.12841818, 0.18038614, 139, 121, 28)\n",
      " (0.25583145, 0.36049027, 139, 121, 28)\n",
      " (0.09849586, 0.03916716, 139, 121, 28)]\n"
     ]
    }
   ],
   "source": [
    "# 빈배열부터 만들기 (x,y,r,g,b) 값이 들어갈\n",
    "import numpy as np\n",
    "\n",
    "a = np.zeros(10, dtype =[('x', float), ('y', float), ('r', int),('g', int),('b', int)])\n",
    "a['x'] = np.random.rand(10)\n",
    "a['y'] = np.random.rand(10)\n",
    "a['r'] = np.random.randint(255, dtype = int)\n",
    "a['g'] = np.random.randint(255, dtype = int)\n",
    "a['b'] = np.random.randint(255, dtype = int)\n",
    "print(a)"
   ]
  },
  {
   "cell_type": "markdown",
   "id": "db83eee0",
   "metadata": {},
   "source": [
    "#### 52. Consider a random vector with shape (100,2) representing coordinates, find point by point distances (★★☆)\n",
    "\n",
    "- 좌표를 나타내는 형태(100,2)를 갖는 랜덤 벡터를 고려합니다. 점 거리를 기준으로 점 찾기\n",
    "- 각 점(원소)을 기준으로 거리를 계산"
   ]
  },
  {
   "cell_type": "code",
   "execution_count": 66,
   "id": "10884922",
   "metadata": {},
   "outputs": [
    {
     "name": "stdout",
     "output_type": "stream",
     "text": [
      "[[1.19157656 1.01578926 0.60319045 1.11236223 1.27600485 1.34130532\n",
      "  0.67917129 0.96532864 0.93396706 0.71382602 0.98562779 0.35943895\n",
      "  0.87944581 0.748291   1.20239621 1.00445375 0.72586882 0.31840062\n",
      "  0.55433233 1.24926922 0.91950728 1.09434465 0.28098199 0.91907931\n",
      "  0.56429802 1.22675517 1.30051054 0.81455972 0.477355   0.60330313\n",
      "  0.65694344 0.34785826 1.08594676 0.91557313 0.83309957 0.82607289\n",
      "  0.67870651 0.77534565 0.97346511 0.32423868 0.49937466 0.49317482\n",
      "  0.92682672 0.6471136  1.05498008 0.98988414 0.66878958 0.90759344\n",
      "  0.8952391  0.84330013 1.02465818 0.71015667 0.22833229 0.58837802\n",
      "  0.87189219 0.48326554 0.71628003 0.68109114 0.73481402 0.30799823\n",
      "  1.05192208 0.53977095 0.91368618 0.50929568 1.00612722 0.39133815\n",
      "  1.22881039 0.88491874 1.05943306 0.44921062 0.4339928  0.77126947\n",
      "  0.79524647 0.27223792 0.68081205 0.55183568 0.4817824  0.84245891\n",
      "  0.54695742 0.75989604 0.82450579 0.4463093  0.92086395 0.98342002\n",
      "  1.10983178 1.11690834 0.34213662 1.06029158 1.35395786 0.14827569\n",
      "  0.38189576 0.80851799 1.12527891 0.54550533 0.16511121 0.68280226\n",
      "  0.53364274 0.32460241 0.55142741 1.37778366]]\n"
     ]
    }
   ],
   "source": [
    "import numpy as np\n",
    "\n",
    "a = np.random.random((100,2))\n",
    "#np.atleat_2d : 입력 배열을 2차원으로 받아들임\n",
    "x,y = np.atleast_2d(a[:,0], a[:,1]) #0열 출력, 1열 출력\n",
    "z = np.sqrt(x**2+y**2)\n",
    "print(z)"
   ]
  },
  {
   "cell_type": "code",
   "execution_count": 62,
   "id": "f74c3c90",
   "metadata": {},
   "outputs": [],
   "source": [
    "import numpy as np\n",
    "from scipy.spatial.distance import cdist\n",
    "\n",
    "# Create a random vector with shape (100, 2) representing coordinates\n",
    "coordinates = np.random.rand(100, 2)\n",
    "\n",
    "# Calculate the point-by-point distances\n",
    "distances = cdist(coordinates, coordinates)\n"
   ]
  },
  {
   "cell_type": "markdown",
   "id": "b90e0bb2",
   "metadata": {},
   "source": [
    "#### 53. How to convert a float (32 bits) array into an integer (32 bits) in place?"
   ]
  },
  {
   "cell_type": "code",
   "execution_count": 43,
   "id": "db97ea05",
   "metadata": {},
   "outputs": [
    {
     "name": "stdout",
     "output_type": "stream",
     "text": [
      "float32\n",
      "int32\n"
     ]
    }
   ],
   "source": [
    "import numpy as np\n",
    "\n",
    "a = np.array([1.23,3.45,4.67], dtype = 'float32')\n",
    "b = a.astype('int')\n",
    "print(a.dtype)\n",
    "print(b.dtype)"
   ]
  },
  {
   "cell_type": "markdown",
   "id": "0d1b021c",
   "metadata": {},
   "source": [
    "#### 54. How to read the following file? (★★☆)\n",
    "```\n",
    "1, 2, 3, 4, 5\n",
    "6,  ,  , 7, 8\n",
    " ,  , 9,10,11\n",
    "```"
   ]
  },
  {
   "cell_type": "code",
   "execution_count": null,
   "id": "9551928e",
   "metadata": {},
   "outputs": [],
   "source": []
  },
  {
   "cell_type": "markdown",
   "id": "56928772",
   "metadata": {},
   "source": [
    "#### 55. What is the equivalent of enumerate for numpy arrays? (★★☆)\n",
    "\n",
    "다차원 배열에서의 각 원소에 대한 인덱스 출력(enumerate)\n",
    "- np.ndenumerate()\n",
    "- np.ndindex(array.shape)"
   ]
  },
  {
   "cell_type": "code",
   "execution_count": 15,
   "id": "327d9b88",
   "metadata": {},
   "outputs": [
    {
     "name": "stdout",
     "output_type": "stream",
     "text": [
      "(0, 0) 0\n",
      "(0, 1) 1\n",
      "(0, 2) 2\n",
      "(1, 0) 3\n",
      "(1, 1) 4\n",
      "(1, 2) 5\n",
      "(2, 0) 6\n",
      "(2, 1) 7\n",
      "(2, 2) 8\n",
      "===============================\n",
      "(0, 0) 0\n",
      "(0, 1) 1\n",
      "(0, 2) 2\n",
      "(1, 0) 3\n",
      "(1, 1) 4\n",
      "(1, 2) 5\n",
      "(2, 0) 6\n",
      "(2, 1) 7\n",
      "(2, 2) 8\n"
     ]
    }
   ],
   "source": [
    "import numpy as np\n",
    "\n",
    "a = np.arange(9).reshape(3,3)\n",
    "\n",
    "\n",
    "for index, value in np.ndenumerate(a):\n",
    "    print(index, value)\n",
    "\n",
    "print(\"===============================\")\n",
    "    \n",
    "for index in np.ndindex(a.shape) :\n",
    "    print(index, a[index])"
   ]
  },
  {
   "cell_type": "markdown",
   "id": "257e0bac",
   "metadata": {},
   "source": [
    "#### 56. Generate a generic 2D Gaussian-like array (★★☆)\n",
    "\n",
    "일반적인 가우시안 배열 생성"
   ]
  },
  {
   "cell_type": "code",
   "execution_count": null,
   "id": "1325d664",
   "metadata": {},
   "outputs": [],
   "source": []
  },
  {
   "cell_type": "markdown",
   "id": "441347ee",
   "metadata": {},
   "source": [
    "#### 57. How to randomly place p elements in a 2D array? (★★☆)\n",
    "\n",
    "np.put()을 통해 원소를 배치하고, np.random.choice()를 통해 범위 내 랜덤 인덱스를 생성한다."
   ]
  },
  {
   "cell_type": "code",
   "execution_count": 16,
   "id": "1e61fce5",
   "metadata": {},
   "outputs": [
    {
     "name": "stdout",
     "output_type": "stream",
     "text": [
      "[[0. 0. 0. 0. 0. 0. 0. 0. 0. 0.]\n",
      " [0. 0. 0. 7. 0. 0. 0. 0. 0. 0.]\n",
      " [0. 0. 0. 0. 0. 0. 7. 0. 0. 0.]\n",
      " [0. 0. 0. 0. 0. 0. 0. 0. 0. 0.]\n",
      " [0. 0. 0. 0. 0. 0. 0. 0. 0. 0.]\n",
      " [0. 0. 0. 0. 0. 0. 0. 0. 0. 0.]\n",
      " [0. 0. 0. 0. 0. 0. 0. 0. 0. 0.]\n",
      " [0. 0. 0. 0. 0. 0. 0. 0. 0. 0.]\n",
      " [0. 0. 0. 0. 0. 0. 0. 0. 0. 7.]\n",
      " [0. 0. 0. 0. 0. 0. 0. 0. 0. 0.]]\n"
     ]
    }
   ],
   "source": [
    "n = 10\n",
    "p = 3\n",
    "a = np.zeros((n,n))\n",
    "np.put(a, np.random.choice(range(n*n), p, replace=False),7) #10x10 인덱스 안에서 p(3)만큼을 랜덤으로 선택하여 7을 삽입\n",
    "print(a)"
   ]
  },
  {
   "cell_type": "markdown",
   "id": "8a76af52",
   "metadata": {},
   "source": [
    "#### 58. Subtract the mean of each row of a matrix (★★☆)\n",
    "\n",
    "행렬의 각 행의 평균을 뺍니다.\n",
    "\n",
    "- .mean(axis와 keepdims 파라미터를 설정하여 실행)\n",
    "- axis=1 : 행 선택\n",
    "- keepdims : 차원 유지"
   ]
  },
  {
   "cell_type": "code",
   "execution_count": 17,
   "id": "65cf18e9",
   "metadata": {},
   "outputs": [
    {
     "name": "stdout",
     "output_type": "stream",
     "text": [
      "[[0.98236009 0.07522997 0.85662403 0.47550227 0.32973677 0.3352935\n",
      "  0.94565633 0.85357325 0.23589881 0.393111  ]\n",
      " [0.03948707 0.83495052 0.86685533 0.35180798 0.94391475 0.87058079\n",
      "  0.69371248 0.97040985 0.62498729 0.44055415]\n",
      " [0.28488781 0.76805915 0.59807981 0.58391359 0.49058829 0.11969517\n",
      "  0.66074581 0.1312752  0.67559614 0.0597265 ]\n",
      " [0.2568444  0.76347351 0.77120869 0.85076053 0.97908989 0.56214766\n",
      "  0.27577538 0.76682992 0.35432629 0.97353834]\n",
      " [0.87994118 0.70820186 0.55884457 0.16865149 0.76772904 0.51435764\n",
      "  0.92502475 0.23753281 0.80396413 0.6484642 ]]\n",
      "[[ 0.43406149 -0.47306863  0.30832542 -0.07279633 -0.21856183 -0.21300511\n",
      "   0.39735773  0.30527465 -0.31239979 -0.15518761]\n",
      " [-0.62423895  0.1712245   0.20312931 -0.31191804  0.28018873  0.20685477\n",
      "   0.02998645  0.30668383 -0.03873873 -0.22317187]\n",
      " [-0.15236894  0.3308024   0.16082306  0.14665684  0.05333154 -0.31756158\n",
      "   0.22348907 -0.30598154  0.2383394  -0.37753025]\n",
      " [-0.39855506  0.10807405  0.11580923  0.19536107  0.32369043 -0.0932518\n",
      "  -0.37962408  0.11143046 -0.30107317  0.31813888]\n",
      " [ 0.25867002  0.08693069 -0.0624266  -0.45261968  0.14645788 -0.10691353\n",
      "   0.30375358 -0.38373836  0.18269296  0.02719304]]\n"
     ]
    }
   ],
   "source": [
    "x = np.random.rand(5, 10)\n",
    "print(x)\n",
    "y = x - x.mean(axis=1,keepdims=True) #axis 1 = row기준 axis = 0 칼럼\n",
    "print(y)"
   ]
  },
  {
   "cell_type": "markdown",
   "id": "d2dc8b5f",
   "metadata": {},
   "source": [
    "#### 59. How to sort an array by the nth column? (★★☆)\n",
    "\n",
    "n번째 열로 배열을 정렬하는 방법은 무엇입니까?\n",
    "\n",
    "- .argsort() 이용\n",
    "- z[z[:,1].argsort()] 는 열의 두번째(인덱스 1) 성분을 기준으로 정렬한다는 뜻"
   ]
  },
  {
   "cell_type": "code",
   "execution_count": 31,
   "id": "83b5eafe",
   "metadata": {},
   "outputs": [
    {
     "name": "stdout",
     "output_type": "stream",
     "text": [
      "[[0 2 1]\n",
      " [9 9 0]\n",
      " [4 7 1]]\n",
      "[[9 9 0]\n",
      " [0 2 1]\n",
      " [4 7 1]]\n"
     ]
    }
   ],
   "source": [
    "import numpy as np\n",
    "\n",
    "a = np.random.randint(0,10,(3,3))\n",
    "n=2\n",
    "\n",
    "b = a[a[:,n].argsort()]\n",
    "print(a)\n",
    "print(b)"
   ]
  },
  {
   "cell_type": "markdown",
   "id": "4886f74e",
   "metadata": {},
   "source": [
    "#### 60. How to tell if a given 2D array has null columns? (★★☆)\n",
    "\n",
    "주어진 2D 배열에 null 열이 있는지 어떻게 알 수 있습니까?\n",
    "- .any() 사용하여 확인"
   ]
  },
  {
   "cell_type": "code",
   "execution_count": 39,
   "id": "7a066dd9",
   "metadata": {},
   "outputs": [
    {
     "data": {
      "text/plain": [
       "True"
      ]
     },
     "execution_count": 39,
     "metadata": {},
     "output_type": "execute_result"
    }
   ],
   "source": [
    "import numpy as np\n",
    "a = np.random.randint(0,10,(3,3))\n",
    "\n",
    "a.any()"
   ]
  },
  {
   "cell_type": "code",
   "execution_count": 35,
   "id": "a56c9706",
   "metadata": {},
   "outputs": [
    {
     "name": "stdout",
     "output_type": "stream",
     "text": [
      "0    False\n",
      "1    False\n",
      "2     True\n",
      "dtype: bool\n"
     ]
    }
   ],
   "source": [
    "import pandas as pd\n",
    "\n",
    "arr = np.array([[1, 2, 3], [4, 5, 6], [7, 8, None]])\n",
    "df = pd.DataFrame(arr)\n",
    "null_columns = df.isnull().any()\n",
    "print(null_columns)\n"
   ]
  },
  {
   "cell_type": "markdown",
   "id": "1f5ad2a9",
   "metadata": {},
   "source": [
    "#### 61. Find the nearest value from a given value in an array (★★☆)\n",
    "\n",
    "배열의 지정된 값에서 가장 가까운 값 찾기\n",
    "\n",
    "- .flat()으로 array를 vector형태로 펴준 뒤 벡터의 방법과 같이 최소값 구해줌 -> 50번과 유사"
   ]
  },
  {
   "cell_type": "code",
   "execution_count": 48,
   "id": "f53df167",
   "metadata": {},
   "outputs": [
    {
     "name": "stdout",
     "output_type": "stream",
     "text": [
      "[[1 1 3]\n",
      " [8 4 4]\n",
      " [3 1 7]]\n",
      "========================\n",
      "7\n",
      "8\n"
     ]
    }
   ],
   "source": [
    "import numpy as np\n",
    "a = np.random.randint(0,10,(3,3))\n",
    "ix = a[2,2]\n",
    "\n",
    "b = a.flatten()\n",
    "c = (np.abs(b-ix)).argmin()\n",
    "print(a)\n",
    "print(\"========================\")\n",
    "print(ix)\n",
    "print(c)"
   ]
  },
  {
   "cell_type": "markdown",
   "id": "aa48f9b2",
   "metadata": {},
   "source": [
    "#### 62. Considering two arrays with shape (1,3) and (3,1), how to compute their sum using an iterator? (★★☆)\n",
    "\n",
    "- 모양 (1,3)과 (3,1)의 두 배열을 고려할 때 iterator를 사용하여 합계를 계산하는 방법은 무엇입니까?\n",
    "- np.nditer 공식문서 : https://numpy.org/doc/stable/reference/generated/numpy.nditer.html\n",
    "- np.nditer는 요소 하나하나마다 접근하여 설정값에 따른 결과를 알려주는 함수 (배열 반복)"
   ]
  },
  {
   "cell_type": "code",
   "execution_count": 50,
   "id": "68987301",
   "metadata": {},
   "outputs": [
    {
     "name": "stdout",
     "output_type": "stream",
     "text": [
      "[[0 1 2]] [[0]\n",
      " [1]\n",
      " [2]]\n",
      "[[0 1 2]\n",
      " [1 2 3]\n",
      " [2 3 4]]\n"
     ]
    }
   ],
   "source": [
    "A = np.arange(3).reshape(1,3)\n",
    "B = np.arange(3).reshape(3,1)\n",
    "print(A, B)\n",
    "it = np.nditer([A,B,None])\n",
    "for x,y,z in it: z[...] = x+y\n",
    "print(it.operands[2])"
   ]
  },
  {
   "cell_type": "markdown",
   "id": "0bed1516",
   "metadata": {},
   "source": [
    "#### 63. Create an array class that has a name attribute (★★☆)\n",
    "\n",
    "이름 특성이 있는 배열 클래스 만들기\n",
    "- NamedArray라는 class를 선언하여 array에 이름이 붙을 수 있게 설정"
   ]
  },
  {
   "cell_type": "code",
   "execution_count": 49,
   "id": "fa1d52fc",
   "metadata": {},
   "outputs": [
    {
     "name": "stdout",
     "output_type": "stream",
     "text": [
      "my_array\n"
     ]
    }
   ],
   "source": [
    "import numpy as np\n",
    "\n",
    "class NamedArray(np.ndarray):\n",
    "    def __new__(cls, array, name=\"\"):\n",
    "        obj = np.asarray(array).view(cls)\n",
    "        obj.name = name\n",
    "        return obj\n",
    "\n",
    "    def __array_finalize__(self, obj):\n",
    "        if obj is None: return\n",
    "        self.name = getattr(obj, 'name', None)\n",
    "\n",
    "arr = NamedArray([1, 2, 3], name=\"my_array\")\n",
    "print(arr.name) # Output: \"my_array\"\n"
   ]
  },
  {
   "cell_type": "markdown",
   "id": "463a40bb",
   "metadata": {},
   "source": [
    "#### 64. Consider a given vector, how to add 1 to each element indexed by a second vector (be careful with repeated indices)? (★★★)"
   ]
  },
  {
   "cell_type": "code",
   "execution_count": null,
   "id": "cdb2cad0",
   "metadata": {},
   "outputs": [],
   "source": []
  },
  {
   "cell_type": "markdown",
   "id": "2a2f8219",
   "metadata": {},
   "source": [
    "#### 65. How to accumulate elements of a vector (X) to an array (F) based on an index list (I)? (★★★)"
   ]
  },
  {
   "cell_type": "code",
   "execution_count": null,
   "id": "9cc34a77",
   "metadata": {},
   "outputs": [],
   "source": []
  },
  {
   "cell_type": "markdown",
   "id": "6a6a3c66",
   "metadata": {},
   "source": [
    "#### 66. Considering a (w,h,3) image of (dtype=ubyte), compute the number of unique colors (★★☆)"
   ]
  },
  {
   "cell_type": "code",
   "execution_count": null,
   "id": "c88f5a5e",
   "metadata": {},
   "outputs": [],
   "source": []
  },
  {
   "cell_type": "markdown",
   "id": "4b030baa",
   "metadata": {},
   "source": [
    "#### 67. Considering a four dimensions array, how to get sum over the last two axis at once? (★★★)"
   ]
  },
  {
   "cell_type": "code",
   "execution_count": null,
   "id": "cd2e7c9c",
   "metadata": {},
   "outputs": [],
   "source": []
  },
  {
   "cell_type": "markdown",
   "id": "1fa6053b",
   "metadata": {},
   "source": [
    "#### 68. Considering a one-dimensional vector D, how to compute means of subsets of D using a vector S of same size describing subset  indices? (★★★)"
   ]
  },
  {
   "cell_type": "code",
   "execution_count": null,
   "id": "9b5a070d",
   "metadata": {},
   "outputs": [],
   "source": []
  },
  {
   "cell_type": "markdown",
   "id": "2e7b0395",
   "metadata": {},
   "source": [
    "#### 69. How to get the diagonal of a dot product? (★★★)"
   ]
  },
  {
   "cell_type": "code",
   "execution_count": null,
   "id": "ae437196",
   "metadata": {},
   "outputs": [],
   "source": []
  },
  {
   "cell_type": "markdown",
   "id": "2bf2f8e4",
   "metadata": {},
   "source": [
    "#### 70. Consider the vector [1, 2, 3, 4, 5], how to build a new vector with 3 consecutive zeros interleaved between each value? (★★★)"
   ]
  },
  {
   "cell_type": "code",
   "execution_count": null,
   "id": "8a427342",
   "metadata": {},
   "outputs": [],
   "source": []
  },
  {
   "cell_type": "markdown",
   "id": "fff802ea",
   "metadata": {},
   "source": [
    "#### 71. Consider an array of dimension (5,5,3), how to mulitply it by an array with dimensions (5,5)? (★★★)"
   ]
  },
  {
   "cell_type": "code",
   "execution_count": null,
   "id": "e83ab7b5",
   "metadata": {},
   "outputs": [],
   "source": []
  },
  {
   "cell_type": "markdown",
   "id": "a0865c04",
   "metadata": {},
   "source": [
    "#### 72. How to swap two rows of an array? (★★★)"
   ]
  },
  {
   "cell_type": "code",
   "execution_count": null,
   "id": "bb510428",
   "metadata": {},
   "outputs": [],
   "source": []
  },
  {
   "cell_type": "markdown",
   "id": "52beda8d",
   "metadata": {},
   "source": [
    "#### 73. Consider a set of 10 triplets describing 10 triangles (with shared vertices), find the set of unique line segments composing all the  triangles (★★★)"
   ]
  },
  {
   "cell_type": "code",
   "execution_count": null,
   "id": "5b9895de",
   "metadata": {},
   "outputs": [],
   "source": []
  },
  {
   "cell_type": "markdown",
   "id": "b1f8e571",
   "metadata": {},
   "source": [
    "#### 74. Given a sorted array C that corresponds to a bincount, how to produce an array A such that np.bincount(A) == C? (★★★)"
   ]
  },
  {
   "cell_type": "code",
   "execution_count": null,
   "id": "ea6d42e9",
   "metadata": {},
   "outputs": [],
   "source": []
  },
  {
   "cell_type": "markdown",
   "id": "db1ed658",
   "metadata": {},
   "source": [
    "#### 75. How to compute averages using a sliding window over an array? (★★★)"
   ]
  },
  {
   "cell_type": "code",
   "execution_count": null,
   "id": "9dc6a98a",
   "metadata": {},
   "outputs": [],
   "source": []
  },
  {
   "cell_type": "markdown",
   "id": "1ca35bda",
   "metadata": {},
   "source": [
    "#### 76. Consider a one-dimensional array Z, build a two-dimensional array whose first row is (Z[0],Z[1],Z[2]) and each subsequent row is  shifted by 1 (last row should be (Z[-3],Z[-2],Z[-1]) (★★★)"
   ]
  },
  {
   "cell_type": "code",
   "execution_count": null,
   "id": "900e8b0a",
   "metadata": {},
   "outputs": [],
   "source": []
  },
  {
   "cell_type": "markdown",
   "id": "18bd6fab",
   "metadata": {},
   "source": [
    "#### 77. How to negate a boolean, or to change the sign of a float inplace? (★★★)"
   ]
  },
  {
   "cell_type": "code",
   "execution_count": null,
   "id": "554c5103",
   "metadata": {},
   "outputs": [],
   "source": []
  },
  {
   "cell_type": "markdown",
   "id": "79a5b412",
   "metadata": {},
   "source": [
    "#### 78. Consider 2 sets of points P0,P1 describing lines (2d) and a point p, how to compute distance from p to each line i (P0[i],P1[i])? (★★★)"
   ]
  },
  {
   "cell_type": "code",
   "execution_count": null,
   "id": "4e4eac2f",
   "metadata": {},
   "outputs": [],
   "source": []
  },
  {
   "cell_type": "markdown",
   "id": "33ffa66d",
   "metadata": {},
   "source": [
    "#### 79. Consider 2 sets of points P0,P1 describing lines (2d) and a set of points P, how to compute distance from each point j (P[j]) to each line i (P0[i],P1[i])? (★★★)"
   ]
  },
  {
   "cell_type": "code",
   "execution_count": null,
   "id": "b56c2510",
   "metadata": {},
   "outputs": [],
   "source": []
  },
  {
   "cell_type": "markdown",
   "id": "a0f23dfa",
   "metadata": {},
   "source": [
    "#### 80. Consider an arbitrary array, write a function that extract a subpart with a fixed shape and centered on a given element (pad with a `fill` value when necessary) (★★★)"
   ]
  },
  {
   "cell_type": "code",
   "execution_count": null,
   "id": "4b7b96fc",
   "metadata": {},
   "outputs": [],
   "source": []
  },
  {
   "cell_type": "markdown",
   "id": "cc27e944",
   "metadata": {},
   "source": [
    "#### 81. Consider an array Z = [1,2,3,4,5,6,7,8,9,10,11,12,13,14], how to generate an array R = [[1,2,3,4], [2,3,4,5], [3,4,5,6], ..., [11,12,13,14]]? (★★★)"
   ]
  },
  {
   "cell_type": "code",
   "execution_count": null,
   "id": "2fdaa26c",
   "metadata": {},
   "outputs": [],
   "source": []
  },
  {
   "cell_type": "markdown",
   "id": "9bc44d6e",
   "metadata": {},
   "source": [
    "#### 82. Compute a matrix rank (★★★)"
   ]
  },
  {
   "cell_type": "code",
   "execution_count": null,
   "id": "3a4c7564",
   "metadata": {},
   "outputs": [],
   "source": []
  },
  {
   "cell_type": "markdown",
   "id": "718a82dd",
   "metadata": {},
   "source": [
    "#### 83. How to find the most frequent value in an array?"
   ]
  },
  {
   "cell_type": "code",
   "execution_count": null,
   "id": "8ffc513c",
   "metadata": {},
   "outputs": [],
   "source": []
  },
  {
   "cell_type": "markdown",
   "id": "754ceeba",
   "metadata": {},
   "source": [
    "#### 84. Extract all the contiguous 3x3 blocks from a random 10x10 matrix (★★★)"
   ]
  },
  {
   "cell_type": "code",
   "execution_count": null,
   "id": "c32bb120",
   "metadata": {},
   "outputs": [],
   "source": []
  },
  {
   "cell_type": "markdown",
   "id": "9fc0b63a",
   "metadata": {},
   "source": [
    "#### 85. Create a 2D array subclass such that Z[i,j] == Z[j,i] (★★★)"
   ]
  },
  {
   "cell_type": "code",
   "execution_count": null,
   "id": "c41d0f9b",
   "metadata": {},
   "outputs": [],
   "source": []
  },
  {
   "cell_type": "markdown",
   "id": "ae909782",
   "metadata": {},
   "source": [
    "#### 86. Consider a set of p matrices wich shape (n,n) and a set of p vectors with shape (n,1). How to compute the sum of of the p matrix products at once? (result has shape (n,1)) (★★★)"
   ]
  },
  {
   "cell_type": "code",
   "execution_count": null,
   "id": "013944b1",
   "metadata": {},
   "outputs": [],
   "source": []
  },
  {
   "cell_type": "markdown",
   "id": "5f134bf4",
   "metadata": {},
   "source": [
    "#### 87. Consider a 16x16 array, how to get the block-sum (block size is 4x4)? (★★★)"
   ]
  },
  {
   "cell_type": "code",
   "execution_count": null,
   "id": "bf480005",
   "metadata": {},
   "outputs": [],
   "source": []
  },
  {
   "cell_type": "markdown",
   "id": "aa91a3be",
   "metadata": {},
   "source": [
    "#### 88. How to implement the Game of Life using numpy arrays? (★★★)"
   ]
  },
  {
   "cell_type": "code",
   "execution_count": null,
   "id": "a20f0e2b",
   "metadata": {},
   "outputs": [],
   "source": []
  },
  {
   "cell_type": "markdown",
   "id": "885023d9",
   "metadata": {},
   "source": [
    "#### 89. How to get the n largest values of an array (★★★)"
   ]
  },
  {
   "cell_type": "code",
   "execution_count": null,
   "id": "996ab585",
   "metadata": {},
   "outputs": [],
   "source": []
  },
  {
   "cell_type": "markdown",
   "id": "d0518aeb",
   "metadata": {},
   "source": [
    "#### 90. Given an arbitrary number of vectors, build the cartesian product (every combinations of every item) (★★★)"
   ]
  },
  {
   "cell_type": "code",
   "execution_count": null,
   "id": "d9ae30ca",
   "metadata": {},
   "outputs": [],
   "source": []
  },
  {
   "cell_type": "markdown",
   "id": "20cc5dc6",
   "metadata": {},
   "source": [
    "#### 91. How to create a record array from a regular array? (★★★)"
   ]
  },
  {
   "cell_type": "code",
   "execution_count": null,
   "id": "a7d05a34",
   "metadata": {},
   "outputs": [],
   "source": []
  },
  {
   "cell_type": "markdown",
   "id": "e59a2c44",
   "metadata": {},
   "source": [
    "#### 92. Consider a large vector Z, compute Z to the power of 3 using 3 different methods (★★★)"
   ]
  },
  {
   "cell_type": "code",
   "execution_count": null,
   "id": "916168ea",
   "metadata": {},
   "outputs": [],
   "source": []
  },
  {
   "cell_type": "markdown",
   "id": "f1fc4b70",
   "metadata": {},
   "source": [
    "#### 93. Consider two arrays A and B of shape (8,3) and (2,2). How to find rows of A that contain elements of each row of B regardless of the order of the elements in B? (★★★)"
   ]
  },
  {
   "cell_type": "code",
   "execution_count": null,
   "id": "d35b4705",
   "metadata": {},
   "outputs": [],
   "source": []
  },
  {
   "cell_type": "markdown",
   "id": "821a6ce8",
   "metadata": {},
   "source": [
    "#### 94. Considering a 10x3 matrix, extract rows with unequal values (e.g. [2,2,3]) (★★★)"
   ]
  },
  {
   "cell_type": "code",
   "execution_count": null,
   "id": "5690c131",
   "metadata": {},
   "outputs": [],
   "source": []
  },
  {
   "cell_type": "markdown",
   "id": "9dc9a61c",
   "metadata": {},
   "source": [
    "#### 95. Convert a vector of ints into a matrix binary representation (★★★)"
   ]
  },
  {
   "cell_type": "code",
   "execution_count": null,
   "id": "c728306f",
   "metadata": {},
   "outputs": [],
   "source": []
  },
  {
   "cell_type": "markdown",
   "id": "cca48e6e",
   "metadata": {},
   "source": [
    "#### 96. Given a two dimensional array, how to extract unique rows? (★★★)"
   ]
  },
  {
   "cell_type": "code",
   "execution_count": null,
   "id": "ae2e6484",
   "metadata": {},
   "outputs": [],
   "source": []
  },
  {
   "cell_type": "markdown",
   "id": "3621d474",
   "metadata": {},
   "source": [
    "#### 97. Considering 2 vectors A & B, write the einsum equivalent of inner, outer, sum, and mul function (★★★)"
   ]
  },
  {
   "cell_type": "code",
   "execution_count": null,
   "id": "09238dfb",
   "metadata": {},
   "outputs": [],
   "source": []
  },
  {
   "cell_type": "markdown",
   "id": "26162fae",
   "metadata": {},
   "source": [
    "#### 98. Considering a path described by two vectors (X,Y), how to sample it using equidistant samples (★★★)?"
   ]
  },
  {
   "cell_type": "code",
   "execution_count": null,
   "id": "283c279f",
   "metadata": {},
   "outputs": [],
   "source": []
  },
  {
   "cell_type": "markdown",
   "id": "44b20c57",
   "metadata": {},
   "source": [
    "#### 99. Given an integer n and a 2D array X, select from X the rows which can be interpreted as draws from a multinomial distribution with n degrees, i.e., the rows which only contain integers and which sum to n. (★★★)"
   ]
  },
  {
   "cell_type": "code",
   "execution_count": null,
   "id": "389b7190",
   "metadata": {},
   "outputs": [],
   "source": []
  },
  {
   "cell_type": "markdown",
   "id": "6fa5ed76",
   "metadata": {},
   "source": [
    "#### 100. Compute bootstrapped 95% confidence intervals for the mean of a 1D array X (i.e., resample the elements of an array with replacement N times, compute the mean of each sample, and then compute percentiles over the means). (★★★)"
   ]
  },
  {
   "cell_type": "code",
   "execution_count": null,
   "id": "4db4cc57",
   "metadata": {},
   "outputs": [],
   "source": []
  }
 ],
 "metadata": {
  "kernelspec": {
   "display_name": "Python 3 (ipykernel)",
   "language": "python",
   "name": "python3"
  },
  "language_info": {
   "codemirror_mode": {
    "name": "ipython",
    "version": 3
   },
   "file_extension": ".py",
   "mimetype": "text/x-python",
   "name": "python",
   "nbconvert_exporter": "python",
   "pygments_lexer": "ipython3",
   "version": "3.9.13"
  }
 },
 "nbformat": 4,
 "nbformat_minor": 5
}
